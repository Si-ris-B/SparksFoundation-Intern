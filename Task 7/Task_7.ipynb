{
  "nbformat": 4,
  "nbformat_minor": 0,
  "metadata": {
    "colab": {
      "name": "Task 7.ipynb",
      "provenance": [],
      "collapsed_sections": []
    },
    "kernelspec": {
      "name": "python3",
      "display_name": "Python 3"
    },
    "accelerator": "GPU",
    "gpuClass": "standard"
  },
  "cells": [
    {
      "cell_type": "markdown",
      "source": [
        "\n",
        "# **Name- Shirish Bajracharya**\n",
        "# **Batch- JULY 2022**\n",
        "# **GRIP @ THE SPARKS FOUNDATION**\n"
      ],
      "metadata": {
        "id": "gp8uMHxxk5WZ"
      }
    },
    {
      "cell_type": "markdown",
      "source": [
        "# **TASK-7 Stock Market Prediction using Numerical and Textual Analysis**\n",
        "(Level - Advanced)\n",
        "\n",
        "\n",
        "* Create a hybrid model for stock price/performance prediction using numerical analysis of historical stock prices, and sentimental analysis of news headlines.\n",
        "* Stock to analyze and predict SENSEX (S&P BSE SENSEX).\n",
        "* Use either R or Python, or both for separate analysis and then combine the findings to create a hybrid model."
      ],
      "metadata": {
        "id": "jfpQKqZYk-Ba"
      }
    },
    {
      "cell_type": "markdown",
      "source": [
        "*Importing Necessary Librarires*"
      ],
      "metadata": {
        "id": "lm8R5n-NlXOb"
      }
    },
    {
      "cell_type": "code",
      "metadata": {
        "id": "KkPUVvNX8cyE",
        "outputId": "e08fa33a-6713-4f83-a168-ca4c4daa7aa3",
        "colab": {
          "base_uri": "https://localhost:8080/"
        }
      },
      "source": [
        "import os\n",
        "import warnings\n",
        "warnings.filterwarnings('ignore')\n",
        "import pandas as pd\n",
        "import numpy as np\n",
        "import matplotlib.pyplot as plt\n",
        "import itertools\n",
        "from statsmodels.tsa.stattools import adfuller, acf, pacf\n",
        "from statsmodels.tsa.arima_model import ARIMA\n",
        "import nltk\n",
        "import re\n",
        "from nltk.corpus import stopwords\n",
        "nltk.download('stopwords')\n",
        "nltk.download('vader_lexicon')\n",
        "from textblob import TextBlob\n",
        "from nltk.sentiment.vader import SentimentIntensityAnalyzer\n",
        "from nltk.stem.porter import PorterStemmer \n",
        "from sklearn.metrics import mean_squared_error\n",
        "from sklearn.model_selection import train_test_split\n",
        "from sklearn.ensemble import RandomForestRegressor, AdaBoostRegressor\n",
        "import xgboost \n",
        "import lightgbm "
      ],
      "execution_count": 1,
      "outputs": [
        {
          "output_type": "stream",
          "name": "stderr",
          "text": [
            "[nltk_data] Downloading package stopwords to /root/nltk_data...\n",
            "[nltk_data]   Package stopwords is already up-to-date!\n",
            "[nltk_data] Downloading package vader_lexicon to /root/nltk_data...\n",
            "[nltk_data]   Package vader_lexicon is already up-to-date!\n"
          ]
        }
      ]
    },
    {
      "cell_type": "code",
      "metadata": {
        "id": "1xRNMsEreplR",
        "outputId": "8b04d7c8-3feb-4570-cbe6-bd91910f6867",
        "colab": {
          "base_uri": "https://localhost:8080/"
        }
      },
      "source": [
        "!pip install pmdarima"
      ],
      "execution_count": 2,
      "outputs": [
        {
          "output_type": "stream",
          "name": "stdout",
          "text": [
            "Looking in indexes: https://pypi.org/simple, https://us-python.pkg.dev/colab-wheels/public/simple/\n",
            "Requirement already satisfied: pmdarima in /usr/local/lib/python3.7/dist-packages (1.8.5)\n",
            "Requirement already satisfied: scipy>=1.3.2 in /usr/local/lib/python3.7/dist-packages (from pmdarima) (1.7.3)\n",
            "Requirement already satisfied: setuptools!=50.0.0,>=38.6.0 in /usr/local/lib/python3.7/dist-packages (from pmdarima) (57.4.0)\n",
            "Requirement already satisfied: numpy>=1.19.3 in /usr/local/lib/python3.7/dist-packages (from pmdarima) (1.21.6)\n",
            "Requirement already satisfied: pandas>=0.19 in /usr/local/lib/python3.7/dist-packages (from pmdarima) (1.3.5)\n",
            "Requirement already satisfied: joblib>=0.11 in /usr/local/lib/python3.7/dist-packages (from pmdarima) (1.1.0)\n",
            "Requirement already satisfied: statsmodels!=0.12.0,>=0.11 in /usr/local/lib/python3.7/dist-packages (from pmdarima) (0.13.2)\n",
            "Requirement already satisfied: scikit-learn>=0.22 in /usr/local/lib/python3.7/dist-packages (from pmdarima) (1.0.2)\n",
            "Requirement already satisfied: urllib3 in /usr/local/lib/python3.7/dist-packages (from pmdarima) (1.24.3)\n",
            "Requirement already satisfied: Cython!=0.29.18,>=0.29 in /usr/local/lib/python3.7/dist-packages (from pmdarima) (0.29.30)\n",
            "Requirement already satisfied: pytz>=2017.3 in /usr/local/lib/python3.7/dist-packages (from pandas>=0.19->pmdarima) (2022.1)\n",
            "Requirement already satisfied: python-dateutil>=2.7.3 in /usr/local/lib/python3.7/dist-packages (from pandas>=0.19->pmdarima) (2.8.2)\n",
            "Requirement already satisfied: six>=1.5 in /usr/local/lib/python3.7/dist-packages (from python-dateutil>=2.7.3->pandas>=0.19->pmdarima) (1.15.0)\n",
            "Requirement already satisfied: threadpoolctl>=2.0.0 in /usr/local/lib/python3.7/dist-packages (from scikit-learn>=0.22->pmdarima) (3.1.0)\n",
            "Requirement already satisfied: packaging>=21.3 in /usr/local/lib/python3.7/dist-packages (from statsmodels!=0.12.0,>=0.11->pmdarima) (21.3)\n",
            "Requirement already satisfied: patsy>=0.5.2 in /usr/local/lib/python3.7/dist-packages (from statsmodels!=0.12.0,>=0.11->pmdarima) (0.5.2)\n",
            "Requirement already satisfied: pyparsing!=3.0.5,>=2.0.2 in /usr/local/lib/python3.7/dist-packages (from packaging>=21.3->statsmodels!=0.12.0,>=0.11->pmdarima) (3.0.9)\n"
          ]
        }
      ]
    },
    {
      "cell_type": "markdown",
      "source": [
        "# Mounting drive"
      ],
      "metadata": {
        "id": "QUUwsv8zh_mE"
      }
    },
    {
      "cell_type": "code",
      "source": [
        "from google.colab import drive\n",
        "drive.mount('/content/drive')"
      ],
      "metadata": {
        "colab": {
          "base_uri": "https://localhost:8080/"
        },
        "id": "p9sY2nNIiFKl",
        "outputId": "39ddc5e6-636d-469b-d4c8-f3850c6eca31"
      },
      "execution_count": 3,
      "outputs": [
        {
          "output_type": "stream",
          "name": "stdout",
          "text": [
            "Mounted at /content/drive\n"
          ]
        }
      ]
    },
    {
      "cell_type": "code",
      "source": [
        "%cd \"/content/drive/My Drive/TSFINTERN/Task 7\""
      ],
      "metadata": {
        "colab": {
          "base_uri": "https://localhost:8080/"
        },
        "id": "oBkMs2uvi59C",
        "outputId": "646934fb-71a1-4a99-e6c6-cfc1263a07bd"
      },
      "execution_count": 4,
      "outputs": [
        {
          "output_type": "stream",
          "name": "stdout",
          "text": [
            "/content/drive/My Drive/TSFINTERN/Task 7\n"
          ]
        }
      ]
    },
    {
      "cell_type": "markdown",
      "metadata": {
        "id": "PQEPCV-tZ-lJ"
      },
      "source": [
        "# TIME SERIES ANALYSIS"
      ]
    },
    {
      "cell_type": "code",
      "metadata": {
        "id": "v7tRx9Yz8rUT",
        "outputId": "51362a69-ba20-41b0-f0a4-7a8c89f0f327",
        "colab": {
          "base_uri": "https://localhost:8080/"
        }
      },
      "source": [
        "df_prices = pd.read_csv('bsesn.csv')\n",
        "print(df_prices.head())\n",
        "print(df_prices.size)"
      ],
      "execution_count": 5,
      "outputs": [
        {
          "output_type": "stream",
          "name": "stdout",
          "text": [
            "   Unnamed: 0        Date          Open          High           Low  \\\n",
            "0           0  2017-07-19  31882.800781  31978.890625  31793.720703   \n",
            "1           1  2017-07-20  32033.820313  32057.119141  31859.500000   \n",
            "2           2  2017-07-21  32035.880859  32062.230469  31808.929688   \n",
            "3           3  2017-07-24  32100.220703  32320.859375  32058.330078   \n",
            "4           4  2017-07-25  32350.710938  32374.300781  32196.859375   \n",
            "\n",
            "          Close     Adj Close   Volume  \n",
            "0  31955.349609  31955.349609  11300.0  \n",
            "1  31904.400391  31904.400391  11200.0  \n",
            "2  32028.890625  32028.890625  18000.0  \n",
            "3  32245.869141  32245.869141  11500.0  \n",
            "4  32228.269531  32228.269531  14100.0  \n",
            "9888\n"
          ]
        }
      ]
    },
    {
      "cell_type": "markdown",
      "source": [
        "*Converting Date column to datetime datatype*"
      ],
      "metadata": {
        "id": "vSj8dfQnllli"
      }
    },
    {
      "cell_type": "code",
      "metadata": {
        "id": "cWlvGON28uJP",
        "outputId": "dff9f6a5-da54-470f-eb07-0914c6994750",
        "colab": {
          "base_uri": "https://localhost:8080/"
        }
      },
      "source": [
        "df_prices['Date'] = pd.to_datetime(df_prices['Date'])\n",
        "df_prices.info()"
      ],
      "execution_count": 6,
      "outputs": [
        {
          "output_type": "stream",
          "name": "stdout",
          "text": [
            "<class 'pandas.core.frame.DataFrame'>\n",
            "RangeIndex: 1236 entries, 0 to 1235\n",
            "Data columns (total 8 columns):\n",
            " #   Column      Non-Null Count  Dtype         \n",
            "---  ------      --------------  -----         \n",
            " 0   Unnamed: 0  1236 non-null   int64         \n",
            " 1   Date        1236 non-null   datetime64[ns]\n",
            " 2   Open        1231 non-null   float64       \n",
            " 3   High        1231 non-null   float64       \n",
            " 4   Low         1231 non-null   float64       \n",
            " 5   Close       1231 non-null   float64       \n",
            " 6   Adj Close   1231 non-null   float64       \n",
            " 7   Volume      1231 non-null   float64       \n",
            "dtypes: datetime64[ns](1), float64(6), int64(1)\n",
            "memory usage: 77.4 KB\n"
          ]
        }
      ]
    },
    {
      "cell_type": "code",
      "metadata": {
        "id": "LLeJDfJqeljf"
      },
      "source": [
        "df_prices.dropna(inplace = True)"
      ],
      "execution_count": 7,
      "outputs": []
    },
    {
      "cell_type": "code",
      "metadata": {
        "id": "AN2mEP8b9Hhq",
        "outputId": "a87169bf-b851-4947-b36f-3f736e922107",
        "colab": {
          "base_uri": "https://localhost:8080/",
          "height": 391
        }
      },
      "source": [
        "plt.figure(figsize=(10, 6))\n",
        "df_prices['Close'].plot()\n",
        "plt.ylabel('Close')"
      ],
      "execution_count": 8,
      "outputs": [
        {
          "output_type": "execute_result",
          "data": {
            "text/plain": [
              "Text(0, 0.5, 'Close')"
            ]
          },
          "metadata": {},
          "execution_count": 8
        },
        {
          "output_type": "display_data",
          "data": {
            "text/plain": [
              "<Figure size 720x432 with 1 Axes>"
            ],
            "image/png": "[encoded data removed]"
          },
          "metadata": {
            "needs_background": "light"
          }
        }
      ]
    },
    {
      "cell_type": "markdown",
      "source": [
        "*Plotting moving average*"
      ],
      "metadata": {
        "id": "rPK0VzSdltRz"
      }
    },
    {
      "cell_type": "code",
      "metadata": {
        "id": "7Rc5uD5791HV",
        "outputId": "a9dbbdae-28aa-49d8-a770-afb08b999648",
        "colab": {
          "base_uri": "https://localhost:8080/",
          "height": 391
        }
      },
      "source": [
        "close = df_prices['Close']\n",
        "ma = close.rolling(window = 50).mean()\n",
        "std = close.rolling(window = 50).std()\n",
        "\n",
        "plt.figure(figsize=(10, 6))\n",
        "df_prices['Close'].plot(color = 'b', label = 'Close')\n",
        "ma.plot(color = 'r', label = 'Rolling Mean')\n",
        "std.plot(label = 'Rolling Standard Deviation')\n",
        "plt.legend()"
      ],
      "execution_count": 9,
      "outputs": [
        {
          "output_type": "execute_result",
          "data": {
            "text/plain": [
              "<matplotlib.legend.Legend at 0x7fd68da61290>"
            ]
          },
          "metadata": {},
          "execution_count": 9
        },
        {
          "output_type": "display_data",
          "data": {
            "text/plain": [
              "<Figure size 720x432 with 1 Axes>"
            ],
            "image/png": "[encoded data removed]"
          },
          "metadata": {
            "needs_background": "light"
          }
        }
      ]
    },
    {
      "cell_type": "markdown",
      "source": [
        "*Plotting returns*"
      ],
      "metadata": {
        "id": "s9JUoOgIlxUL"
      }
    },
    {
      "cell_type": "code",
      "metadata": {
        "id": "Nh8DfBr69-VR",
        "outputId": "e20258fb-7a76-4f98-e633-de0b26fd08b2",
        "colab": {
          "base_uri": "https://localhost:8080/",
          "height": 407
        }
      },
      "source": [
        "returns = close / close.shift(1) - 1\n",
        "\n",
        "plt.figure(figsize = (10,6))\n",
        "returns.plot(label='Return', color = 'g')\n",
        "plt.title(\"Returns\")"
      ],
      "execution_count": 10,
      "outputs": [
        {
          "output_type": "execute_result",
          "data": {
            "text/plain": [
              "Text(0.5, 1.0, 'Returns')"
            ]
          },
          "metadata": {},
          "execution_count": 10
        },
        {
          "output_type": "display_data",
          "data": {
            "text/plain": [
              "<Figure size 720x432 with 1 Axes>"
            ],
            "image/png": "[encoded data removed]"
          },
          "metadata": {
            "needs_background": "light"
          }
        }
      ]
    },
    {
      "cell_type": "code",
      "metadata": {
        "id": "qdIQZfYRWhVV"
      },
      "source": [
        "train = df_prices[:1000]\n",
        "test = df_prices[1000:]"
      ],
      "execution_count": 11,
      "outputs": []
    },
    {
      "cell_type": "markdown",
      "source": [
        "*Stationarity test*"
      ],
      "metadata": {
        "id": "xufbUPLDl4zK"
      }
    },
    {
      "cell_type": "code",
      "metadata": {
        "id": "blcNOhntWmwI",
        "outputId": "69a95647-607c-488e-c21c-bd678016347d",
        "colab": {
          "base_uri": "https://localhost:8080/",
          "height": 622
        }
      },
      "source": [
        "def test_stationarity(timeseries):\n",
        " rolmean = timeseries.rolling(20).mean()\n",
        " rolstd = timeseries.rolling(20).std()\n",
        "\n",
        " plt.figure(figsize = (10,8))\n",
        " plt.plot(timeseries, color = 'y', label = 'original')\n",
        " plt.plot(rolmean, color = 'r', label = 'rolling mean')\n",
        " plt.plot(rolstd, color = 'b', label = 'rolling std')\n",
        " plt.xlabel('Date')\n",
        " plt.legend()\n",
        " plt.title('Rolling Mean and Standard Deviation',  fontsize = 20)\n",
        " plt.show(block = False)\n",
        " \n",
        " print('Results of dickey fuller test')\n",
        " result = adfuller(timeseries, autolag = 'AIC')\n",
        " labels = ['ADF Test Statistic','p-value','#Lags Used','Number of Observations Used']\n",
        " for value,label in zip(result, labels):\n",
        "   print(label+' : '+str(value) )\n",
        " if result[1] <= 0.05:\n",
        "   print(\"Strong evidence against the null hypothesis(Ho), reject the null hypothesis. Data is stationary\")\n",
        " else:\n",
        "   print(\"Weak evidence against null hypothesis, time series is non-stationary \")\n",
        "test_stationarity(train['Close'])"
      ],
      "execution_count": 12,
      "outputs": [
        {
          "output_type": "display_data",
          "data": {
            "text/plain": [
              "<Figure size 720x576 with 1 Axes>"
            ],
            "image/png": "[encoded data removed]"
          },
          "metadata": {
            "needs_background": "light"
          }
        },
        {
          "output_type": "stream",
          "name": "stdout",
          "text": [
            "Results of dickey fuller test\n",
            "ADF Test Statistic : -0.1339725315689044\n",
            "p-value : 0.9459478364141646\n",
            "#Lags Used : 11\n",
            "Number of Observations Used : 988\n",
            "Weak evidence against null hypothesis, time series is non-stationary \n"
          ]
        }
      ]
    },
    {
      "cell_type": "code",
      "metadata": {
        "id": "jgQvUAFiWx4c",
        "outputId": "0fdcd345-71fa-44d9-9a2b-513396477c3b",
        "colab": {
          "base_uri": "https://localhost:8080/",
          "height": 391
        }
      },
      "source": [
        "train_log = np.log(train['Close']) \n",
        "test_log = np.log(test['Close'])\n",
        "\n",
        "mav = train_log.rolling(24).mean() \n",
        "plt.figure(figsize = (10,6))\n",
        "plt.plot(train_log) \n",
        "plt.plot(mav, color = 'red') "
      ],
      "execution_count": 13,
      "outputs": [
        {
          "output_type": "execute_result",
          "data": {
            "text/plain": [
              "[<matplotlib.lines.Line2D at 0x7fd68ab42950>]"
            ]
          },
          "metadata": {},
          "execution_count": 13
        },
        {
          "output_type": "display_data",
          "data": {
            "text/plain": [
              "<Figure size 720x432 with 1 Axes>"
            ],
            "image/png": "[encoded data removed]"
          },
          "metadata": {
            "needs_background": "light"
          }
        }
      ]
    },
    {
      "cell_type": "code",
      "metadata": {
        "id": "g74WFepIW52z",
        "outputId": "e68644d8-3e4c-4d54-8dce-820231f19e0c",
        "colab": {
          "base_uri": "https://localhost:8080/",
          "height": 622
        }
      },
      "source": [
        "train_log.dropna(inplace = True)\n",
        "test_log.dropna(inplace = True)\n",
        "\n",
        "test_stationarity(train_log)"
      ],
      "execution_count": 14,
      "outputs": [
        {
          "output_type": "display_data",
          "data": {
            "text/plain": [
              "<Figure size 720x576 with 1 Axes>"
            ],
            "image/png": "[encoded data removed]"
          },
          "metadata": {
            "needs_background": "light"
          }
        },
        {
          "output_type": "stream",
          "name": "stdout",
          "text": [
            "Results of dickey fuller test\n",
            "ADF Test Statistic : -0.7075665076196433\n",
            "p-value : 0.8447798947741293\n",
            "#Lags Used : 11\n",
            "Number of Observations Used : 988\n",
            "Weak evidence against null hypothesis, time series is non-stationary \n"
          ]
        }
      ]
    },
    {
      "cell_type": "code",
      "metadata": {
        "id": "vhGmsGKyXMiL",
        "outputId": "1e25e68f-60ce-4186-e0b4-d31327662f7d",
        "colab": {
          "base_uri": "https://localhost:8080/",
          "height": 622
        }
      },
      "source": [
        "train_log_diff = train_log - mav\n",
        "train_log_diff.dropna(inplace = True)\n",
        "\n",
        "test_stationarity(train_log_diff)"
      ],
      "execution_count": 15,
      "outputs": [
        {
          "output_type": "display_data",
          "data": {
            "text/plain": [
              "<Figure size 720x576 with 1 Axes>"
            ],
            "image/png": "[encoded data removed]"
          },
          "metadata": {
            "needs_background": "light"
          }
        },
        {
          "output_type": "stream",
          "name": "stdout",
          "text": [
            "Results of dickey fuller test\n",
            "ADF Test Statistic : -6.202256174263906\n",
            "p-value : 5.769226791196647e-08\n",
            "#Lags Used : 12\n",
            "Number of Observations Used : 964\n",
            "Strong evidence against the null hypothesis(Ho), reject the null hypothesis. Data is stationary\n"
          ]
        }
      ]
    },
    {
      "cell_type": "markdown",
      "source": [
        "*Using auto arima to make predictions using log data*"
      ],
      "metadata": {
        "id": "RALKFMKxl_ux"
      }
    },
    {
      "cell_type": "code",
      "metadata": {
        "id": "EUASbpXkXZt8",
        "outputId": "ea6a4697-c37d-4385-aa2d-fb8b501f2f6e",
        "colab": {
          "base_uri": "https://localhost:8080/"
        }
      },
      "source": [
        "from pmdarima import auto_arima\n",
        "model = auto_arima(train_log, trace = True, error_action = 'ignore', suppress_warnings = True)\n",
        "model.fit(train_log)\n",
        "predictions = model.predict(n_periods = len(test))\n",
        "predictions = pd.DataFrame(predictions,index = test_log.index,columns=['Prediction'])"
      ],
      "execution_count": 16,
      "outputs": [
        {
          "output_type": "stream",
          "name": "stdout",
          "text": [
            "Performing stepwise search to minimize aic\n",
            " ARIMA(2,1,2)(0,0,0)[0] intercept   : AIC=-5892.254, Time=0.62 sec\n",
            " ARIMA(0,1,0)(0,0,0)[0] intercept   : AIC=-5895.239, Time=0.13 sec\n",
            " ARIMA(1,1,0)(0,0,0)[0] intercept   : AIC=-5897.443, Time=0.31 sec\n",
            " ARIMA(0,1,1)(0,0,0)[0] intercept   : AIC=-5897.191, Time=0.14 sec\n",
            " ARIMA(0,1,0)(0,0,0)[0]             : AIC=-5895.410, Time=0.14 sec\n",
            " ARIMA(2,1,0)(0,0,0)[0] intercept   : AIC=-5896.248, Time=0.27 sec\n",
            " ARIMA(1,1,1)(0,0,0)[0] intercept   : AIC=-5895.840, Time=0.87 sec\n",
            " ARIMA(2,1,1)(0,0,0)[0] intercept   : AIC=-5894.618, Time=0.40 sec\n",
            " ARIMA(1,1,0)(0,0,0)[0]             : AIC=-5897.367, Time=0.16 sec\n",
            "\n",
            "Best model:  ARIMA(1,1,0)(0,0,0)[0] intercept\n",
            "Total fit time: 3.048 seconds\n"
          ]
        }
      ]
    },
    {
      "cell_type": "code",
      "metadata": {
        "id": "H9gLf_tNZa05",
        "outputId": "5bfa8fc0-731a-4ebc-de64-acc33716d432",
        "colab": {
          "base_uri": "https://localhost:8080/",
          "height": 312
        }
      },
      "source": [
        "plt.plot(train_log, label='Train')\n",
        "plt.plot(test_log, label='Test')\n",
        "plt.plot(predictions, label='Prediction')\n",
        "plt.title('BSESN Stock Price Prediction')\n",
        "plt.xlabel('Time')\n",
        "plt.ylabel('Actual Stock Price')"
      ],
      "execution_count": 17,
      "outputs": [
        {
          "output_type": "execute_result",
          "data": {
            "text/plain": [
              "Text(0, 0.5, 'Actual Stock Price')"
            ]
          },
          "metadata": {},
          "execution_count": 17
        },
        {
          "output_type": "display_data",
          "data": {
            "text/plain": [
              "<Figure size 432x288 with 1 Axes>"
            ],
            "image/png": "[encoded data removed]"
          },
          "metadata": {
            "needs_background": "light"
          }
        }
      ]
    },
    {
      "cell_type": "markdown",
      "source": [
        "*Calculating error*"
      ],
      "metadata": {
        "id": "YjGFcoqhmDY1"
      }
    },
    {
      "cell_type": "code",
      "metadata": {
        "id": "b4MVsxv8Zzov",
        "outputId": "0a6346b5-a1b8-4fbb-d228-de5f262b0a4e",
        "colab": {
          "base_uri": "https://localhost:8080/"
        }
      },
      "source": [
        "rms = np.sqrt(mean_squared_error(test_log,predictions))\n",
        "print(\"RMSE : \", rms)"
      ],
      "execution_count": 18,
      "outputs": [
        {
          "output_type": "stream",
          "name": "stdout",
          "text": [
            "RMSE :  0.07551916794992479\n"
          ]
        }
      ]
    },
    {
      "cell_type": "markdown",
      "metadata": {
        "id": "prGs9EPvZ6xN"
      },
      "source": [
        "**TEXTUAL ANALYSIS**"
      ]
    },
    {
      "cell_type": "code",
      "metadata": {
        "id": "LJ5gRZOIccDu",
        "outputId": "77d0c42c-6f5e-4ce8-9352-d73ab4f72b63",
        "colab": {
          "base_uri": "https://localhost:8080/",
          "height": 424
        }
      },
      "source": [
        "cols = ['Date','Category','News']\n",
        "df_news = pd.read_csv('india-news-headlines.csv', names = cols)\n",
        "df_news"
      ],
      "execution_count": 19,
      "outputs": [
        {
          "output_type": "execute_result",
          "data": {
            "text/plain": [
              "                 Date                       Category  \\\n",
              "0        publish_date              headline_category   \n",
              "1            20010102                        unknown   \n",
              "2            20010102                        unknown   \n",
              "3            20010102                        unknown   \n",
              "4            20010102                        unknown   \n",
              "...               ...                            ...   \n",
              "3650966      20220331                  city.srinagar   \n",
              "3650967      20220331  entertainment.hindi.bollywood   \n",
              "3650968      20220331                    city.trichy   \n",
              "3650969      20220331                     city.erode   \n",
              "3650970      20220331                     city.salem   \n",
              "\n",
              "                                                      News  \n",
              "0                                            headline_text  \n",
              "1        Status quo will not be disturbed at Ayodhya; s...  \n",
              "2                      Fissures in Hurriyat over Pak visit  \n",
              "3                    America's unwanted heading for India?  \n",
              "4                       For bigwigs; it is destination Goa  \n",
              "...                                                    ...  \n",
              "3650966  J&K sacks 2 cops; 3 other employees over terro...  \n",
              "3650967  Ranbir Kapoor says 'Rishi Kapoor enjoyed his a...  \n",
              "3650968  As Covid-19 cases drop to nil in southern dist...  \n",
              "3650969  Tamil Nadu sees marginal rise of Covid cases w...  \n",
              "3650970  Tamil Nadu sees marginal rise of Covid cases w...  \n",
              "\n",
              "[3650971 rows x 3 columns]"
            ],
            "text/html": [
              "\n",
              "  <div id=\"df-c0db73d4-3fc9-440e-b518-07b5c39ed2b3\">\n",
              "    <div class=\"colab-df-container\">\n",
              "      <div>\n",
              "<style scoped>\n",
              "    .dataframe tbody tr th:only-of-type {\n",
              "        vertical-align: middle;\n",
              "    }\n",
              "\n",
              "    .dataframe tbody tr th {\n",
              "        vertical-align: top;\n",
              "    }\n",
              "\n",
              "    .dataframe thead th {\n",
              "        text-align: right;\n",
              "    }\n",
              "</style>\n",
              "<table border=\"1\" class=\"dataframe\">\n",
              "  <thead>\n",
              "    <tr style=\"text-align: right;\">\n",
              "      <th></th>\n",
              "      <th>Date</th>\n",
              "      <th>Category</th>\n",
              "      <th>News</th>\n",
              "    </tr>\n",
              "  </thead>\n",
              "  <tbody>\n",
              "    <tr>\n",
              "      <th>0</th>\n",
              "      <td>publish_date</td>\n",
              "      <td>headline_category</td>\n",
              "      <td>headline_text</td>\n",
              "    </tr>\n",
              "    <tr>\n",
              "      <th>1</th>\n",
              "      <td>20010102</td>\n",
              "      <td>unknown</td>\n",
              "      <td>Status quo will not be disturbed at Ayodhya; s...</td>\n",
              "    </tr>\n",
              "    <tr>\n",
              "      <th>2</th>\n",
              "      <td>20010102</td>\n",
              "      <td>unknown</td>\n",
              "      <td>Fissures in Hurriyat over Pak visit</td>\n",
              "    </tr>\n",
              "    <tr>\n",
              "      <th>3</th>\n",
              "      <td>20010102</td>\n",
              "      <td>unknown</td>\n",
              "      <td>America's unwanted heading for India?</td>\n",
              "    </tr>\n",
              "    <tr>\n",
              "      <th>4</th>\n",
              "      <td>20010102</td>\n",
              "      <td>unknown</td>\n",
              "      <td>For bigwigs; it is destination Goa</td>\n",
              "    </tr>\n",
              "    <tr>\n",
              "      <th>...</th>\n",
              "      <td>...</td>\n",
              "      <td>...</td>\n",
              "      <td>...</td>\n",
              "    </tr>\n",
              "    <tr>\n",
              "      <th>3650966</th>\n",
              "      <td>20220331</td>\n",
              "      <td>city.srinagar</td>\n",
              "      <td>J&amp;K sacks 2 cops; 3 other employees over terro...</td>\n",
              "    </tr>\n",
              "    <tr>\n",
              "      <th>3650967</th>\n",
              "      <td>20220331</td>\n",
              "      <td>entertainment.hindi.bollywood</td>\n",
              "      <td>Ranbir Kapoor says 'Rishi Kapoor enjoyed his a...</td>\n",
              "    </tr>\n",
              "    <tr>\n",
              "      <th>3650968</th>\n",
              "      <td>20220331</td>\n",
              "      <td>city.trichy</td>\n",
              "      <td>As Covid-19 cases drop to nil in southern dist...</td>\n",
              "    </tr>\n",
              "    <tr>\n",
              "      <th>3650969</th>\n",
              "      <td>20220331</td>\n",
              "      <td>city.erode</td>\n",
              "      <td>Tamil Nadu sees marginal rise of Covid cases w...</td>\n",
              "    </tr>\n",
              "    <tr>\n",
              "      <th>3650970</th>\n",
              "      <td>20220331</td>\n",
              "      <td>city.salem</td>\n",
              "      <td>Tamil Nadu sees marginal rise of Covid cases w...</td>\n",
              "    </tr>\n",
              "  </tbody>\n",
              "</table>\n",
              "<p>3650971 rows × 3 columns</p>\n",
              "</div>\n",
              "      <button class=\"colab-df-convert\" onclick=\"convertToInteractive('df-c0db73d4-3fc9-440e-b518-07b5c39ed2b3')\"\n",
              "              title=\"Convert this dataframe to an interactive table.\"\n",
              "              style=\"display:none;\">\n",
              "        \n",
              "  <svg xmlns=\"http://www.w3.org/2000/svg\" height=\"24px\"viewBox=\"0 0 24 24\"\n",
              "       width=\"24px\">\n",
              "    <path d=\"M0 0h24v24H0V0z\" fill=\"none\"/>\n",
              "    <path d=\"M18.56 5.44l.94 2.06.94-2.06 2.06-.94-2.06-.94-.94-2.06-.94 2.06-2.06.94zm-11 1L8.5 8.5l.94-2.06 2.06-.94-2.06-.94L8.5 2.5l-.94 2.06-2.06.94zm10 10l.94 2.06.94-2.06 2.06-.94-2.06-.94-.94-2.06-.94 2.06-2.06.94z\"/><path d=\"M17.41 7.96l-1.37-1.37c-.4-.4-.92-.59-1.43-.59-.52 0-1.04.2-1.43.59L10.3 9.45l-7.72 7.72c-.78.78-.78 2.05 0 2.83L4 21.41c.39.39.9.59 1.41.59.51 0 1.02-.2 1.41-.59l7.78-7.78 2.81-2.81c.8-.78.8-2.07 0-2.86zM5.41 20L4 18.59l7.72-7.72 1.47 1.35L5.41 20z\"/>\n",
              "  </svg>\n",
              "      </button>\n",
              "      \n",
              "  <style>\n",
              "    .colab-df-container {\n",
              "      display:flex;\n",
              "      flex-wrap:wrap;\n",
              "      gap: 12px;\n",
              "    }\n",
              "\n",
              "    .colab-df-convert {\n",
              "      background-color: #E8F0FE;\n",
              "      border: none;\n",
              "      border-radius: 50%;\n",
              "      cursor: pointer;\n",
              "      display: none;\n",
              "      fill: #1967D2;\n",
              "      height: 32px;\n",
              "      padding: 0 0 0 0;\n",
              "      width: 32px;\n",
              "    }\n",
              "\n",
              "    .colab-df-convert:hover {\n",
              "      background-color: #E2EBFA;\n",
              "      box-shadow: 0px 1px 2px rgba(60, 64, 67, 0.3), 0px 1px 3px 1px rgba(60, 64, 67, 0.15);\n",
              "      fill: #174EA6;\n",
              "    }\n",
              "\n",
              "    [theme=dark] .colab-df-convert {\n",
              "      background-color: #3B4455;\n",
              "      fill: #D2E3FC;\n",
              "    }\n",
              "\n",
              "    [theme=dark] .colab-df-convert:hover {\n",
              "      background-color: #434B5C;\n",
              "      box-shadow: 0px 1px 3px 1px rgba(0, 0, 0, 0.15);\n",
              "      filter: drop-shadow(0px 1px 2px rgba(0, 0, 0, 0.3));\n",
              "      fill: #FFFFFF;\n",
              "    }\n",
              "  </style>\n",
              "\n",
              "      <script>\n",
              "        const buttonEl =\n",
              "          document.querySelector('#df-c0db73d4-3fc9-440e-b518-07b5c39ed2b3 button.colab-df-convert');\n",
              "        buttonEl.style.display =\n",
              "          google.colab.kernel.accessAllowed ? 'block' : 'none';\n",
              "\n",
              "        async function convertToInteractive(key) {\n",
              "          const element = document.querySelector('#df-c0db73d4-3fc9-440e-b518-07b5c39ed2b3');\n",
              "          const dataTable =\n",
              "            await google.colab.kernel.invokeFunction('convertToInteractive',\n",
              "                                                     [key], {});\n",
              "          if (!dataTable) return;\n",
              "\n",
              "          const docLinkHtml = 'Like what you see? Visit the ' +\n",
              "            '<a target=\"_blank\" href=https://colab.research.google.com/notebooks/data_table.ipynb>data table notebook</a>'\n",
              "            + ' to learn more about interactive tables.';\n",
              "          element.innerHTML = '';\n",
              "          dataTable['output_type'] = 'display_data';\n",
              "          await google.colab.output.renderOutput(dataTable, element);\n",
              "          const docLink = document.createElement('div');\n",
              "          docLink.innerHTML = docLinkHtml;\n",
              "          element.appendChild(docLink);\n",
              "        }\n",
              "      </script>\n",
              "    </div>\n",
              "  </div>\n",
              "  "
            ]
          },
          "metadata": {},
          "execution_count": 19
        }
      ]
    },
    {
      "cell_type": "code",
      "metadata": {
        "id": "s09RrWKwEj7i",
        "outputId": "ca657b1a-af50-4104-ebd8-12bec89675f0",
        "colab": {
          "base_uri": "https://localhost:8080/"
        }
      },
      "source": [
        "df_news.drop(0, inplace=True)\n",
        "df_news.drop('Category', axis = 1, inplace=True)\n",
        "df_news.info()"
      ],
      "execution_count": 20,
      "outputs": [
        {
          "output_type": "stream",
          "name": "stdout",
          "text": [
            "<class 'pandas.core.frame.DataFrame'>\n",
            "Int64Index: 3650970 entries, 1 to 3650970\n",
            "Data columns (total 2 columns):\n",
            " #   Column  Dtype \n",
            "---  ------  ----- \n",
            " 0   Date    object\n",
            " 1   News    object\n",
            "dtypes: object(2)\n",
            "memory usage: 83.6+ MB\n"
          ]
        }
      ]
    },
    {
      "cell_type": "markdown",
      "source": [
        "*Converting data type of Date column*"
      ],
      "metadata": {
        "id": "rCtuCT85mKSD"
      }
    },
    {
      "cell_type": "code",
      "metadata": {
        "id": "wAjXdsIhgtPD",
        "outputId": "03e47304-8826-4296-9c06-f094730b57dd",
        "colab": {
          "base_uri": "https://localhost:8080/",
          "height": 424
        }
      },
      "source": [
        "df_news['Date'] = pd.to_datetime(df_news['Date'],format= '%Y%m%d')\n",
        "df_news"
      ],
      "execution_count": 21,
      "outputs": [
        {
          "output_type": "execute_result",
          "data": {
            "text/plain": [
              "              Date                                               News\n",
              "1       2001-01-02  Status quo will not be disturbed at Ayodhya; s...\n",
              "2       2001-01-02                Fissures in Hurriyat over Pak visit\n",
              "3       2001-01-02              America's unwanted heading for India?\n",
              "4       2001-01-02                 For bigwigs; it is destination Goa\n",
              "5       2001-01-02               Extra buses to clear tourist traffic\n",
              "...            ...                                                ...\n",
              "3650966 2022-03-31  J&K sacks 2 cops; 3 other employees over terro...\n",
              "3650967 2022-03-31  Ranbir Kapoor says 'Rishi Kapoor enjoyed his a...\n",
              "3650968 2022-03-31  As Covid-19 cases drop to nil in southern dist...\n",
              "3650969 2022-03-31  Tamil Nadu sees marginal rise of Covid cases w...\n",
              "3650970 2022-03-31  Tamil Nadu sees marginal rise of Covid cases w...\n",
              "\n",
              "[3650970 rows x 2 columns]"
            ],
            "text/html": [
              "\n",
              "  <div id=\"df-a1f3a800-4406-415c-a714-a4e15cbfc999\">\n",
              "    <div class=\"colab-df-container\">\n",
              "      <div>\n",
              "<style scoped>\n",
              "    .dataframe tbody tr th:only-of-type {\n",
              "        vertical-align: middle;\n",
              "    }\n",
              "\n",
              "    .dataframe tbody tr th {\n",
              "        vertical-align: top;\n",
              "    }\n",
              "\n",
              "    .dataframe thead th {\n",
              "        text-align: right;\n",
              "    }\n",
              "</style>\n",
              "<table border=\"1\" class=\"dataframe\">\n",
              "  <thead>\n",
              "    <tr style=\"text-align: right;\">\n",
              "      <th></th>\n",
              "      <th>Date</th>\n",
              "      <th>News</th>\n",
              "    </tr>\n",
              "  </thead>\n",
              "  <tbody>\n",
              "    <tr>\n",
              "      <th>1</th>\n",
              "      <td>2001-01-02</td>\n",
              "      <td>Status quo will not be disturbed at Ayodhya; s...</td>\n",
              "    </tr>\n",
              "    <tr>\n",
              "      <th>2</th>\n",
              "      <td>2001-01-02</td>\n",
              "      <td>Fissures in Hurriyat over Pak visit</td>\n",
              "    </tr>\n",
              "    <tr>\n",
              "      <th>3</th>\n",
              "      <td>2001-01-02</td>\n",
              "      <td>America's unwanted heading for India?</td>\n",
              "    </tr>\n",
              "    <tr>\n",
              "      <th>4</th>\n",
              "      <td>2001-01-02</td>\n",
              "      <td>For bigwigs; it is destination Goa</td>\n",
              "    </tr>\n",
              "    <tr>\n",
              "      <th>5</th>\n",
              "      <td>2001-01-02</td>\n",
              "      <td>Extra buses to clear tourist traffic</td>\n",
              "    </tr>\n",
              "    <tr>\n",
              "      <th>...</th>\n",
              "      <td>...</td>\n",
              "      <td>...</td>\n",
              "    </tr>\n",
              "    <tr>\n",
              "      <th>3650966</th>\n",
              "      <td>2022-03-31</td>\n",
              "      <td>J&amp;K sacks 2 cops; 3 other employees over terro...</td>\n",
              "    </tr>\n",
              "    <tr>\n",
              "      <th>3650967</th>\n",
              "      <td>2022-03-31</td>\n",
              "      <td>Ranbir Kapoor says 'Rishi Kapoor enjoyed his a...</td>\n",
              "    </tr>\n",
              "    <tr>\n",
              "      <th>3650968</th>\n",
              "      <td>2022-03-31</td>\n",
              "      <td>As Covid-19 cases drop to nil in southern dist...</td>\n",
              "    </tr>\n",
              "    <tr>\n",
              "      <th>3650969</th>\n",
              "      <td>2022-03-31</td>\n",
              "      <td>Tamil Nadu sees marginal rise of Covid cases w...</td>\n",
              "    </tr>\n",
              "    <tr>\n",
              "      <th>3650970</th>\n",
              "      <td>2022-03-31</td>\n",
              "      <td>Tamil Nadu sees marginal rise of Covid cases w...</td>\n",
              "    </tr>\n",
              "  </tbody>\n",
              "</table>\n",
              "<p>3650970 rows × 2 columns</p>\n",
              "</div>\n",
              "      <button class=\"colab-df-convert\" onclick=\"convertToInteractive('df-a1f3a800-4406-415c-a714-a4e15cbfc999')\"\n",
              "              title=\"Convert this dataframe to an interactive table.\"\n",
              "              style=\"display:none;\">\n",
              "        \n",
              "  <svg xmlns=\"http://www.w3.org/2000/svg\" height=\"24px\"viewBox=\"0 0 24 24\"\n",
              "       width=\"24px\">\n",
              "    <path d=\"M0 0h24v24H0V0z\" fill=\"none\"/>\n",
              "    <path d=\"M18.56 5.44l.94 2.06.94-2.06 2.06-.94-2.06-.94-.94-2.06-.94 2.06-2.06.94zm-11 1L8.5 8.5l.94-2.06 2.06-.94-2.06-.94L8.5 2.5l-.94 2.06-2.06.94zm10 10l.94 2.06.94-2.06 2.06-.94-2.06-.94-.94-2.06-.94 2.06-2.06.94z\"/><path d=\"M17.41 7.96l-1.37-1.37c-.4-.4-.92-.59-1.43-.59-.52 0-1.04.2-1.43.59L10.3 9.45l-7.72 7.72c-.78.78-.78 2.05 0 2.83L4 21.41c.39.39.9.59 1.41.59.51 0 1.02-.2 1.41-.59l7.78-7.78 2.81-2.81c.8-.78.8-2.07 0-2.86zM5.41 20L4 18.59l7.72-7.72 1.47 1.35L5.41 20z\"/>\n",
              "  </svg>\n",
              "      </button>\n",
              "      \n",
              "  <style>\n",
              "    .colab-df-container {\n",
              "      display:flex;\n",
              "      flex-wrap:wrap;\n",
              "      gap: 12px;\n",
              "    }\n",
              "\n",
              "    .colab-df-convert {\n",
              "      background-color: #E8F0FE;\n",
              "      border: none;\n",
              "      border-radius: 50%;\n",
              "      cursor: pointer;\n",
              "      display: none;\n",
              "      fill: #1967D2;\n",
              "      height: 32px;\n",
              "      padding: 0 0 0 0;\n",
              "      width: 32px;\n",
              "    }\n",
              "\n",
              "    .colab-df-convert:hover {\n",
              "      background-color: #E2EBFA;\n",
              "      box-shadow: 0px 1px 2px rgba(60, 64, 67, 0.3), 0px 1px 3px 1px rgba(60, 64, 67, 0.15);\n",
              "      fill: #174EA6;\n",
              "    }\n",
              "\n",
              "    [theme=dark] .colab-df-convert {\n",
              "      background-color: #3B4455;\n",
              "      fill: #D2E3FC;\n",
              "    }\n",
              "\n",
              "    [theme=dark] .colab-df-convert:hover {\n",
              "      background-color: #434B5C;\n",
              "      box-shadow: 0px 1px 3px 1px rgba(0, 0, 0, 0.15);\n",
              "      filter: drop-shadow(0px 1px 2px rgba(0, 0, 0, 0.3));\n",
              "      fill: #FFFFFF;\n",
              "    }\n",
              "  </style>\n",
              "\n",
              "      <script>\n",
              "        const buttonEl =\n",
              "          document.querySelector('#df-a1f3a800-4406-415c-a714-a4e15cbfc999 button.colab-df-convert');\n",
              "        buttonEl.style.display =\n",
              "          google.colab.kernel.accessAllowed ? 'block' : 'none';\n",
              "\n",
              "        async function convertToInteractive(key) {\n",
              "          const element = document.querySelector('#df-a1f3a800-4406-415c-a714-a4e15cbfc999');\n",
              "          const dataTable =\n",
              "            await google.colab.kernel.invokeFunction('convertToInteractive',\n",
              "                                                     [key], {});\n",
              "          if (!dataTable) return;\n",
              "\n",
              "          const docLinkHtml = 'Like what you see? Visit the ' +\n",
              "            '<a target=\"_blank\" href=https://colab.research.google.com/notebooks/data_table.ipynb>data table notebook</a>'\n",
              "            + ' to learn more about interactive tables.';\n",
              "          element.innerHTML = '';\n",
              "          dataTable['output_type'] = 'display_data';\n",
              "          await google.colab.output.renderOutput(dataTable, element);\n",
              "          const docLink = document.createElement('div');\n",
              "          docLink.innerHTML = docLinkHtml;\n",
              "          element.appendChild(docLink);\n",
              "        }\n",
              "      </script>\n",
              "    </div>\n",
              "  </div>\n",
              "  "
            ]
          },
          "metadata": {},
          "execution_count": 21
        }
      ]
    },
    {
      "cell_type": "markdown",
      "source": [
        "*Grouping the headlines for each day*"
      ],
      "metadata": {
        "id": "n5nXdAeamOwK"
      }
    },
    {
      "cell_type": "code",
      "metadata": {
        "id": "Bt40GZW963ac",
        "outputId": "0423ae96-823c-478b-84ed-d04d333d5022",
        "colab": {
          "base_uri": "https://localhost:8080/",
          "height": 424
        }
      },
      "source": [
        "df_news['News'] = df_news.groupby(['Date']).transform(lambda x : ' '.join(x)) \n",
        "df_news = df_news.drop_duplicates() \n",
        "df_news.reset_index(inplace = True, drop = True)\n",
        "df_news"
      ],
      "execution_count": 22,
      "outputs": [
        {
          "output_type": "execute_result",
          "data": {
            "text/plain": [
              "           Date                                               News\n",
              "0    2001-01-02  Status quo will not be disturbed at Ayodhya; s...\n",
              "1    2001-01-03  Powerless north India gropes in the dark Think...\n",
              "2    2001-01-04  The string that pulled Stephen Hawking to Indi...\n",
              "3    2001-01-05  Light combat craft takes India into club class...\n",
              "4    2001-01-06  Light combat craft takes India into club class...\n",
              "...         ...                                                ...\n",
              "7712 2022-03-27  Playing a dead man in Body God meant sitting i...\n",
              "7713 2022-03-28  As fashion becomes democratic; demand for styl...\n",
              "7714 2022-03-29  Bobby Deol: Like my dad; I hope to be working ...\n",
              "7715 2022-03-30  I will not give in to trends: Dossmode The tim...\n",
              "7716 2022-03-31  Shashank goes back to coastal Karnataka and Mo...\n",
              "\n",
              "[7717 rows x 2 columns]"
            ],
            "text/html": [
              "\n",
              "  <div id=\"df-c67968e9-c3f1-41c2-af2b-7b3d03c8b347\">\n",
              "    <div class=\"colab-df-container\">\n",
              "      <div>\n",
              "<style scoped>\n",
              "    .dataframe tbody tr th:only-of-type {\n",
              "        vertical-align: middle;\n",
              "    }\n",
              "\n",
              "    .dataframe tbody tr th {\n",
              "        vertical-align: top;\n",
              "    }\n",
              "\n",
              "    .dataframe thead th {\n",
              "        text-align: right;\n",
              "    }\n",
              "</style>\n",
              "<table border=\"1\" class=\"dataframe\">\n",
              "  <thead>\n",
              "    <tr style=\"text-align: right;\">\n",
              "      <th></th>\n",
              "      <th>Date</th>\n",
              "      <th>News</th>\n",
              "    </tr>\n",
              "  </thead>\n",
              "  <tbody>\n",
              "    <tr>\n",
              "      <th>0</th>\n",
              "      <td>2001-01-02</td>\n",
              "      <td>Status quo will not be disturbed at Ayodhya; s...</td>\n",
              "    </tr>\n",
              "    <tr>\n",
              "      <th>1</th>\n",
              "      <td>2001-01-03</td>\n",
              "      <td>Powerless north India gropes in the dark Think...</td>\n",
              "    </tr>\n",
              "    <tr>\n",
              "      <th>2</th>\n",
              "      <td>2001-01-04</td>\n",
              "      <td>The string that pulled Stephen Hawking to Indi...</td>\n",
              "    </tr>\n",
              "    <tr>\n",
              "      <th>3</th>\n",
              "      <td>2001-01-05</td>\n",
              "      <td>Light combat craft takes India into club class...</td>\n",
              "    </tr>\n",
              "    <tr>\n",
              "      <th>4</th>\n",
              "      <td>2001-01-06</td>\n",
              "      <td>Light combat craft takes India into club class...</td>\n",
              "    </tr>\n",
              "    <tr>\n",
              "      <th>...</th>\n",
              "      <td>...</td>\n",
              "      <td>...</td>\n",
              "    </tr>\n",
              "    <tr>\n",
              "      <th>7712</th>\n",
              "      <td>2022-03-27</td>\n",
              "      <td>Playing a dead man in Body God meant sitting i...</td>\n",
              "    </tr>\n",
              "    <tr>\n",
              "      <th>7713</th>\n",
              "      <td>2022-03-28</td>\n",
              "      <td>As fashion becomes democratic; demand for styl...</td>\n",
              "    </tr>\n",
              "    <tr>\n",
              "      <th>7714</th>\n",
              "      <td>2022-03-29</td>\n",
              "      <td>Bobby Deol: Like my dad; I hope to be working ...</td>\n",
              "    </tr>\n",
              "    <tr>\n",
              "      <th>7715</th>\n",
              "      <td>2022-03-30</td>\n",
              "      <td>I will not give in to trends: Dossmode The tim...</td>\n",
              "    </tr>\n",
              "    <tr>\n",
              "      <th>7716</th>\n",
              "      <td>2022-03-31</td>\n",
              "      <td>Shashank goes back to coastal Karnataka and Mo...</td>\n",
              "    </tr>\n",
              "  </tbody>\n",
              "</table>\n",
              "<p>7717 rows × 2 columns</p>\n",
              "</div>\n",
              "      <button class=\"colab-df-convert\" onclick=\"convertToInteractive('df-c67968e9-c3f1-41c2-af2b-7b3d03c8b347')\"\n",
              "              title=\"Convert this dataframe to an interactive table.\"\n",
              "              style=\"display:none;\">\n",
              "        \n",
              "  <svg xmlns=\"http://www.w3.org/2000/svg\" height=\"24px\"viewBox=\"0 0 24 24\"\n",
              "       width=\"24px\">\n",
              "    <path d=\"M0 0h24v24H0V0z\" fill=\"none\"/>\n",
              "    <path d=\"M18.56 5.44l.94 2.06.94-2.06 2.06-.94-2.06-.94-.94-2.06-.94 2.06-2.06.94zm-11 1L8.5 8.5l.94-2.06 2.06-.94-2.06-.94L8.5 2.5l-.94 2.06-2.06.94zm10 10l.94 2.06.94-2.06 2.06-.94-2.06-.94-.94-2.06-.94 2.06-2.06.94z\"/><path d=\"M17.41 7.96l-1.37-1.37c-.4-.4-.92-.59-1.43-.59-.52 0-1.04.2-1.43.59L10.3 9.45l-7.72 7.72c-.78.78-.78 2.05 0 2.83L4 21.41c.39.39.9.59 1.41.59.51 0 1.02-.2 1.41-.59l7.78-7.78 2.81-2.81c.8-.78.8-2.07 0-2.86zM5.41 20L4 18.59l7.72-7.72 1.47 1.35L5.41 20z\"/>\n",
              "  </svg>\n",
              "      </button>\n",
              "      \n",
              "  <style>\n",
              "    .colab-df-container {\n",
              "      display:flex;\n",
              "      flex-wrap:wrap;\n",
              "      gap: 12px;\n",
              "    }\n",
              "\n",
              "    .colab-df-convert {\n",
              "      background-color: #E8F0FE;\n",
              "      border: none;\n",
              "      border-radius: 50%;\n",
              "      cursor: pointer;\n",
              "      display: none;\n",
              "      fill: #1967D2;\n",
              "      height: 32px;\n",
              "      padding: 0 0 0 0;\n",
              "      width: 32px;\n",
              "    }\n",
              "\n",
              "    .colab-df-convert:hover {\n",
              "      background-color: #E2EBFA;\n",
              "      box-shadow: 0px 1px 2px rgba(60, 64, 67, 0.3), 0px 1px 3px 1px rgba(60, 64, 67, 0.15);\n",
              "      fill: #174EA6;\n",
              "    }\n",
              "\n",
              "    [theme=dark] .colab-df-convert {\n",
              "      background-color: #3B4455;\n",
              "      fill: #D2E3FC;\n",
              "    }\n",
              "\n",
              "    [theme=dark] .colab-df-convert:hover {\n",
              "      background-color: #434B5C;\n",
              "      box-shadow: 0px 1px 3px 1px rgba(0, 0, 0, 0.15);\n",
              "      filter: drop-shadow(0px 1px 2px rgba(0, 0, 0, 0.3));\n",
              "      fill: #FFFFFF;\n",
              "    }\n",
              "  </style>\n",
              "\n",
              "      <script>\n",
              "        const buttonEl =\n",
              "          document.querySelector('#df-c67968e9-c3f1-41c2-af2b-7b3d03c8b347 button.colab-df-convert');\n",
              "        buttonEl.style.display =\n",
              "          google.colab.kernel.accessAllowed ? 'block' : 'none';\n",
              "\n",
              "        async function convertToInteractive(key) {\n",
              "          const element = document.querySelector('#df-c67968e9-c3f1-41c2-af2b-7b3d03c8b347');\n",
              "          const dataTable =\n",
              "            await google.colab.kernel.invokeFunction('convertToInteractive',\n",
              "                                                     [key], {});\n",
              "          if (!dataTable) return;\n",
              "\n",
              "          const docLinkHtml = 'Like what you see? Visit the ' +\n",
              "            '<a target=\"_blank\" href=https://colab.research.google.com/notebooks/data_table.ipynb>data table notebook</a>'\n",
              "            + ' to learn more about interactive tables.';\n",
              "          element.innerHTML = '';\n",
              "          dataTable['output_type'] = 'display_data';\n",
              "          await google.colab.output.renderOutput(dataTable, element);\n",
              "          const docLink = document.createElement('div');\n",
              "          docLink.innerHTML = docLinkHtml;\n",
              "          element.appendChild(docLink);\n",
              "        }\n",
              "      </script>\n",
              "    </div>\n",
              "  </div>\n",
              "  "
            ]
          },
          "metadata": {},
          "execution_count": 22
        }
      ]
    },
    {
      "cell_type": "code",
      "metadata": {
        "id": "rO5_oVqxnEP2",
        "outputId": "8bcbc897-9ee1-4946-f121-262e5ea085a2",
        "colab": {
          "base_uri": "https://localhost:8080/"
        }
      },
      "source": [
        "df_news['News']"
      ],
      "execution_count": 23,
      "outputs": [
        {
          "output_type": "execute_result",
          "data": {
            "text/plain": [
              "0       Status quo will not be disturbed at Ayodhya; s...\n",
              "1       Powerless north India gropes in the dark Think...\n",
              "2       The string that pulled Stephen Hawking to Indi...\n",
              "3       Light combat craft takes India into club class...\n",
              "4       Light combat craft takes India into club class...\n",
              "                              ...                        \n",
              "7712    Playing a dead man in Body God meant sitting i...\n",
              "7713    As fashion becomes democratic; demand for styl...\n",
              "7714    Bobby Deol: Like my dad; I hope to be working ...\n",
              "7715    I will not give in to trends: Dossmode The tim...\n",
              "7716    Shashank goes back to coastal Karnataka and Mo...\n",
              "Name: News, Length: 7717, dtype: object"
            ]
          },
          "metadata": {},
          "execution_count": 23
        }
      ]
    },
    {
      "cell_type": "markdown",
      "source": [
        "*Cleaning headlines*"
      ],
      "metadata": {
        "id": "1QD3dGJTmSr5"
      }
    },
    {
      "cell_type": "code",
      "metadata": {
        "id": "C919a2Ro_nQ-"
      },
      "source": [
        "c = []\n",
        "for i in range(0,len(df_news['News'])):\n",
        "    news = re.sub('[^a-zA-Z]',' ',df_news['News'][i])\n",
        "    news = news.lower()\n",
        "    news = news.split()\n",
        "    ps = PorterStemmer()\n",
        "    news = [ps.stem(word) for word in news if not word in set(stopwords.words('english'))]\n",
        "    news=' '.join(news)\n",
        "    c.append(news)"
      ],
      "execution_count": 24,
      "outputs": []
    },
    {
      "cell_type": "code",
      "metadata": {
        "id": "yXiDeuZTSoCu",
        "outputId": "73063703-dfd5-4581-bb4d-2c23d63b6e7d",
        "colab": {
          "base_uri": "https://localhost:8080/",
          "height": 424
        }
      },
      "source": [
        "df_news['News'] = pd.Series(c)\n",
        "df_news"
      ],
      "execution_count": 25,
      "outputs": [
        {
          "output_type": "execute_result",
          "data": {
            "text/plain": [
              "           Date                                               News\n",
              "0    2001-01-02  statu quo disturb ayodhya say vajpaye fissur h...\n",
              "1    2001-01-03  powerless north india grope dark think laxman ...\n",
              "2    2001-01-04  string pull stephen hawk india vajpaye give bi...\n",
              "3    2001-01-05  light combat craft take india club class hawk ...\n",
              "4    2001-01-06  light combat craft take india club class hawk ...\n",
              "...         ...                                                ...\n",
              "7712 2022-03-27  play dead man bodi god meant sit refriger guru...\n",
              "7713 2022-03-28  fashion becom democrat demand stylist soar las...\n",
              "7714 2022-03-29  bobbi deol like dad hope work age yasha surya ...\n",
              "7715 2022-03-30  give trend dossmod time gave boyfriend incred ...\n",
              "7716 2022-03-31  shashank goe back coastal karnataka moggina ma...\n",
              "\n",
              "[7717 rows x 2 columns]"
            ],
            "text/html": [
              "\n",
              "  <div id=\"df-f4c2557d-3275-43f5-ba1c-5653d801f03e\">\n",
              "    <div class=\"colab-df-container\">\n",
              "      <div>\n",
              "<style scoped>\n",
              "    .dataframe tbody tr th:only-of-type {\n",
              "        vertical-align: middle;\n",
              "    }\n",
              "\n",
              "    .dataframe tbody tr th {\n",
              "        vertical-align: top;\n",
              "    }\n",
              "\n",
              "    .dataframe thead th {\n",
              "        text-align: right;\n",
              "    }\n",
              "</style>\n",
              "<table border=\"1\" class=\"dataframe\">\n",
              "  <thead>\n",
              "    <tr style=\"text-align: right;\">\n",
              "      <th></th>\n",
              "      <th>Date</th>\n",
              "      <th>News</th>\n",
              "    </tr>\n",
              "  </thead>\n",
              "  <tbody>\n",
              "    <tr>\n",
              "      <th>0</th>\n",
              "      <td>2001-01-02</td>\n",
              "      <td>statu quo disturb ayodhya say vajpaye fissur h...</td>\n",
              "    </tr>\n",
              "    <tr>\n",
              "      <th>1</th>\n",
              "      <td>2001-01-03</td>\n",
              "      <td>powerless north india grope dark think laxman ...</td>\n",
              "    </tr>\n",
              "    <tr>\n",
              "      <th>2</th>\n",
              "      <td>2001-01-04</td>\n",
              "      <td>string pull stephen hawk india vajpaye give bi...</td>\n",
              "    </tr>\n",
              "    <tr>\n",
              "      <th>3</th>\n",
              "      <td>2001-01-05</td>\n",
              "      <td>light combat craft take india club class hawk ...</td>\n",
              "    </tr>\n",
              "    <tr>\n",
              "      <th>4</th>\n",
              "      <td>2001-01-06</td>\n",
              "      <td>light combat craft take india club class hawk ...</td>\n",
              "    </tr>\n",
              "    <tr>\n",
              "      <th>...</th>\n",
              "      <td>...</td>\n",
              "      <td>...</td>\n",
              "    </tr>\n",
              "    <tr>\n",
              "      <th>7712</th>\n",
              "      <td>2022-03-27</td>\n",
              "      <td>play dead man bodi god meant sit refriger guru...</td>\n",
              "    </tr>\n",
              "    <tr>\n",
              "      <th>7713</th>\n",
              "      <td>2022-03-28</td>\n",
              "      <td>fashion becom democrat demand stylist soar las...</td>\n",
              "    </tr>\n",
              "    <tr>\n",
              "      <th>7714</th>\n",
              "      <td>2022-03-29</td>\n",
              "      <td>bobbi deol like dad hope work age yasha surya ...</td>\n",
              "    </tr>\n",
              "    <tr>\n",
              "      <th>7715</th>\n",
              "      <td>2022-03-30</td>\n",
              "      <td>give trend dossmod time gave boyfriend incred ...</td>\n",
              "    </tr>\n",
              "    <tr>\n",
              "      <th>7716</th>\n",
              "      <td>2022-03-31</td>\n",
              "      <td>shashank goe back coastal karnataka moggina ma...</td>\n",
              "    </tr>\n",
              "  </tbody>\n",
              "</table>\n",
              "<p>7717 rows × 2 columns</p>\n",
              "</div>\n",
              "      <button class=\"colab-df-convert\" onclick=\"convertToInteractive('df-f4c2557d-3275-43f5-ba1c-5653d801f03e')\"\n",
              "              title=\"Convert this dataframe to an interactive table.\"\n",
              "              style=\"display:none;\">\n",
              "        \n",
              "  <svg xmlns=\"http://www.w3.org/2000/svg\" height=\"24px\"viewBox=\"0 0 24 24\"\n",
              "       width=\"24px\">\n",
              "    <path d=\"M0 0h24v24H0V0z\" fill=\"none\"/>\n",
              "    <path d=\"M18.56 5.44l.94 2.06.94-2.06 2.06-.94-2.06-.94-.94-2.06-.94 2.06-2.06.94zm-11 1L8.5 8.5l.94-2.06 2.06-.94-2.06-.94L8.5 2.5l-.94 2.06-2.06.94zm10 10l.94 2.06.94-2.06 2.06-.94-2.06-.94-.94-2.06-.94 2.06-2.06.94z\"/><path d=\"M17.41 7.96l-1.37-1.37c-.4-.4-.92-.59-1.43-.59-.52 0-1.04.2-1.43.59L10.3 9.45l-7.72 7.72c-.78.78-.78 2.05 0 2.83L4 21.41c.39.39.9.59 1.41.59.51 0 1.02-.2 1.41-.59l7.78-7.78 2.81-2.81c.8-.78.8-2.07 0-2.86zM5.41 20L4 18.59l7.72-7.72 1.47 1.35L5.41 20z\"/>\n",
              "  </svg>\n",
              "      </button>\n",
              "      \n",
              "  <style>\n",
              "    .colab-df-container {\n",
              "      display:flex;\n",
              "      flex-wrap:wrap;\n",
              "      gap: 12px;\n",
              "    }\n",
              "\n",
              "    .colab-df-convert {\n",
              "      background-color: #E8F0FE;\n",
              "      border: none;\n",
              "      border-radius: 50%;\n",
              "      cursor: pointer;\n",
              "      display: none;\n",
              "      fill: #1967D2;\n",
              "      height: 32px;\n",
              "      padding: 0 0 0 0;\n",
              "      width: 32px;\n",
              "    }\n",
              "\n",
              "    .colab-df-convert:hover {\n",
              "      background-color: #E2EBFA;\n",
              "      box-shadow: 0px 1px 2px rgba(60, 64, 67, 0.3), 0px 1px 3px 1px rgba(60, 64, 67, 0.15);\n",
              "      fill: #174EA6;\n",
              "    }\n",
              "\n",
              "    [theme=dark] .colab-df-convert {\n",
              "      background-color: #3B4455;\n",
              "      fill: #D2E3FC;\n",
              "    }\n",
              "\n",
              "    [theme=dark] .colab-df-convert:hover {\n",
              "      background-color: #434B5C;\n",
              "      box-shadow: 0px 1px 3px 1px rgba(0, 0, 0, 0.15);\n",
              "      filter: drop-shadow(0px 1px 2px rgba(0, 0, 0, 0.3));\n",
              "      fill: #FFFFFF;\n",
              "    }\n",
              "  </style>\n",
              "\n",
              "      <script>\n",
              "        const buttonEl =\n",
              "          document.querySelector('#df-f4c2557d-3275-43f5-ba1c-5653d801f03e button.colab-df-convert');\n",
              "        buttonEl.style.display =\n",
              "          google.colab.kernel.accessAllowed ? 'block' : 'none';\n",
              "\n",
              "        async function convertToInteractive(key) {\n",
              "          const element = document.querySelector('#df-f4c2557d-3275-43f5-ba1c-5653d801f03e');\n",
              "          const dataTable =\n",
              "            await google.colab.kernel.invokeFunction('convertToInteractive',\n",
              "                                                     [key], {});\n",
              "          if (!dataTable) return;\n",
              "\n",
              "          const docLinkHtml = 'Like what you see? Visit the ' +\n",
              "            '<a target=\"_blank\" href=https://colab.research.google.com/notebooks/data_table.ipynb>data table notebook</a>'\n",
              "            + ' to learn more about interactive tables.';\n",
              "          element.innerHTML = '';\n",
              "          dataTable['output_type'] = 'display_data';\n",
              "          await google.colab.output.renderOutput(dataTable, element);\n",
              "          const docLink = document.createElement('div');\n",
              "          docLink.innerHTML = docLinkHtml;\n",
              "          element.appendChild(docLink);\n",
              "        }\n",
              "      </script>\n",
              "    </div>\n",
              "  </div>\n",
              "  "
            ]
          },
          "metadata": {},
          "execution_count": 25
        }
      ]
    },
    {
      "cell_type": "markdown",
      "source": [
        "*Functions to get the subjectivity and polarity*"
      ],
      "metadata": {
        "id": "C56G6pSDmZla"
      }
    },
    {
      "cell_type": "code",
      "metadata": {
        "id": "EHXwfi5p-ItO"
      },
      "source": [
        "def getSubjectivity(text):\n",
        "  return TextBlob(text).sentiment.subjectivity\n",
        "\n",
        "def getPolarity(text):\n",
        "  return  TextBlob(text).sentiment.polarity"
      ],
      "execution_count": 26,
      "outputs": []
    },
    {
      "cell_type": "markdown",
      "source": [
        "*Adding subjectivity and polarity columns*"
      ],
      "metadata": {
        "id": "tgE2x6KimdCx"
      }
    },
    {
      "cell_type": "code",
      "metadata": {
        "id": "hD75mMdf-Rsv",
        "outputId": "f7fedcb0-f20d-43db-e350-b417ac50138d",
        "colab": {
          "base_uri": "https://localhost:8080/",
          "height": 424
        }
      },
      "source": [
        "df_news['Subjectivity'] = df_news['News'].apply(getSubjectivity)\n",
        "df_news['Polarity'] = df_news['News'].apply(getPolarity)\n",
        "df_news"
      ],
      "execution_count": 27,
      "outputs": [
        {
          "output_type": "execute_result",
          "data": {
            "text/plain": [
              "           Date                                               News  \\\n",
              "0    2001-01-02  statu quo disturb ayodhya say vajpaye fissur h...   \n",
              "1    2001-01-03  powerless north india grope dark think laxman ...   \n",
              "2    2001-01-04  string pull stephen hawk india vajpaye give bi...   \n",
              "3    2001-01-05  light combat craft take india club class hawk ...   \n",
              "4    2001-01-06  light combat craft take india club class hawk ...   \n",
              "...         ...                                                ...   \n",
              "7712 2022-03-27  play dead man bodi god meant sit refriger guru...   \n",
              "7713 2022-03-28  fashion becom democrat demand stylist soar las...   \n",
              "7714 2022-03-29  bobbi deol like dad hope work age yasha surya ...   \n",
              "7715 2022-03-30  give trend dossmod time gave boyfriend incred ...   \n",
              "7716 2022-03-31  shashank goe back coastal karnataka moggina ma...   \n",
              "\n",
              "      Subjectivity  Polarity  \n",
              "0         0.298148  0.099074  \n",
              "1         0.429167  0.025000  \n",
              "2         0.475140  0.032481  \n",
              "3         0.458412  0.296404  \n",
              "4         0.425758  0.389394  \n",
              "...            ...       ...  \n",
              "7712      0.356716  0.087855  \n",
              "7713      0.382331  0.079270  \n",
              "7714      0.372864  0.083037  \n",
              "7715      0.330696  0.052339  \n",
              "7716      0.311183  0.045025  \n",
              "\n",
              "[7717 rows x 4 columns]"
            ],
            "text/html": [
              "\n",
              "  <div id=\"df-ca53aaf6-2477-47ac-b5c6-51ab937c8f0c\">\n",
              "    <div class=\"colab-df-container\">\n",
              "      <div>\n",
              "<style scoped>\n",
              "    .dataframe tbody tr th:only-of-type {\n",
              "        vertical-align: middle;\n",
              "    }\n",
              "\n",
              "    .dataframe tbody tr th {\n",
              "        vertical-align: top;\n",
              "    }\n",
              "\n",
              "    .dataframe thead th {\n",
              "        text-align: right;\n",
              "    }\n",
              "</style>\n",
              "<table border=\"1\" class=\"dataframe\">\n",
              "  <thead>\n",
              "    <tr style=\"text-align: right;\">\n",
              "      <th></th>\n",
              "      <th>Date</th>\n",
              "      <th>News</th>\n",
              "      <th>Subjectivity</th>\n",
              "      <th>Polarity</th>\n",
              "    </tr>\n",
              "  </thead>\n",
              "  <tbody>\n",
              "    <tr>\n",
              "      <th>0</th>\n",
              "      <td>2001-01-02</td>\n",
              "      <td>statu quo disturb ayodhya say vajpaye fissur h...</td>\n",
              "      <td>0.298148</td>\n",
              "      <td>0.099074</td>\n",
              "    </tr>\n",
              "    <tr>\n",
              "      <th>1</th>\n",
              "      <td>2001-01-03</td>\n",
              "      <td>powerless north india grope dark think laxman ...</td>\n",
              "      <td>0.429167</td>\n",
              "      <td>0.025000</td>\n",
              "    </tr>\n",
              "    <tr>\n",
              "      <th>2</th>\n",
              "      <td>2001-01-04</td>\n",
              "      <td>string pull stephen hawk india vajpaye give bi...</td>\n",
              "      <td>0.475140</td>\n",
              "      <td>0.032481</td>\n",
              "    </tr>\n",
              "    <tr>\n",
              "      <th>3</th>\n",
              "      <td>2001-01-05</td>\n",
              "      <td>light combat craft take india club class hawk ...</td>\n",
              "      <td>0.458412</td>\n",
              "      <td>0.296404</td>\n",
              "    </tr>\n",
              "    <tr>\n",
              "      <th>4</th>\n",
              "      <td>2001-01-06</td>\n",
              "      <td>light combat craft take india club class hawk ...</td>\n",
              "      <td>0.425758</td>\n",
              "      <td>0.389394</td>\n",
              "    </tr>\n",
              "    <tr>\n",
              "      <th>...</th>\n",
              "      <td>...</td>\n",
              "      <td>...</td>\n",
              "      <td>...</td>\n",
              "      <td>...</td>\n",
              "    </tr>\n",
              "    <tr>\n",
              "      <th>7712</th>\n",
              "      <td>2022-03-27</td>\n",
              "      <td>play dead man bodi god meant sit refriger guru...</td>\n",
              "      <td>0.356716</td>\n",
              "      <td>0.087855</td>\n",
              "    </tr>\n",
              "    <tr>\n",
              "      <th>7713</th>\n",
              "      <td>2022-03-28</td>\n",
              "      <td>fashion becom democrat demand stylist soar las...</td>\n",
              "      <td>0.382331</td>\n",
              "      <td>0.079270</td>\n",
              "    </tr>\n",
              "    <tr>\n",
              "      <th>7714</th>\n",
              "      <td>2022-03-29</td>\n",
              "      <td>bobbi deol like dad hope work age yasha surya ...</td>\n",
              "      <td>0.372864</td>\n",
              "      <td>0.083037</td>\n",
              "    </tr>\n",
              "    <tr>\n",
              "      <th>7715</th>\n",
              "      <td>2022-03-30</td>\n",
              "      <td>give trend dossmod time gave boyfriend incred ...</td>\n",
              "      <td>0.330696</td>\n",
              "      <td>0.052339</td>\n",
              "    </tr>\n",
              "    <tr>\n",
              "      <th>7716</th>\n",
              "      <td>2022-03-31</td>\n",
              "      <td>shashank goe back coastal karnataka moggina ma...</td>\n",
              "      <td>0.311183</td>\n",
              "      <td>0.045025</td>\n",
              "    </tr>\n",
              "  </tbody>\n",
              "</table>\n",
              "<p>7717 rows × 4 columns</p>\n",
              "</div>\n",
              "      <button class=\"colab-df-convert\" onclick=\"convertToInteractive('df-ca53aaf6-2477-47ac-b5c6-51ab937c8f0c')\"\n",
              "              title=\"Convert this dataframe to an interactive table.\"\n",
              "              style=\"display:none;\">\n",
              "        \n",
              "  <svg xmlns=\"http://www.w3.org/2000/svg\" height=\"24px\"viewBox=\"0 0 24 24\"\n",
              "       width=\"24px\">\n",
              "    <path d=\"M0 0h24v24H0V0z\" fill=\"none\"/>\n",
              "    <path d=\"M18.56 5.44l.94 2.06.94-2.06 2.06-.94-2.06-.94-.94-2.06-.94 2.06-2.06.94zm-11 1L8.5 8.5l.94-2.06 2.06-.94-2.06-.94L8.5 2.5l-.94 2.06-2.06.94zm10 10l.94 2.06.94-2.06 2.06-.94-2.06-.94-.94-2.06-.94 2.06-2.06.94z\"/><path d=\"M17.41 7.96l-1.37-1.37c-.4-.4-.92-.59-1.43-.59-.52 0-1.04.2-1.43.59L10.3 9.45l-7.72 7.72c-.78.78-.78 2.05 0 2.83L4 21.41c.39.39.9.59 1.41.59.51 0 1.02-.2 1.41-.59l7.78-7.78 2.81-2.81c.8-.78.8-2.07 0-2.86zM5.41 20L4 18.59l7.72-7.72 1.47 1.35L5.41 20z\"/>\n",
              "  </svg>\n",
              "      </button>\n",
              "      \n",
              "  <style>\n",
              "    .colab-df-container {\n",
              "      display:flex;\n",
              "      flex-wrap:wrap;\n",
              "      gap: 12px;\n",
              "    }\n",
              "\n",
              "    .colab-df-convert {\n",
              "      background-color: #E8F0FE;\n",
              "      border: none;\n",
              "      border-radius: 50%;\n",
              "      cursor: pointer;\n",
              "      display: none;\n",
              "      fill: #1967D2;\n",
              "      height: 32px;\n",
              "      padding: 0 0 0 0;\n",
              "      width: 32px;\n",
              "    }\n",
              "\n",
              "    .colab-df-convert:hover {\n",
              "      background-color: #E2EBFA;\n",
              "      box-shadow: 0px 1px 2px rgba(60, 64, 67, 0.3), 0px 1px 3px 1px rgba(60, 64, 67, 0.15);\n",
              "      fill: #174EA6;\n",
              "    }\n",
              "\n",
              "    [theme=dark] .colab-df-convert {\n",
              "      background-color: #3B4455;\n",
              "      fill: #D2E3FC;\n",
              "    }\n",
              "\n",
              "    [theme=dark] .colab-df-convert:hover {\n",
              "      background-color: #434B5C;\n",
              "      box-shadow: 0px 1px 3px 1px rgba(0, 0, 0, 0.15);\n",
              "      filter: drop-shadow(0px 1px 2px rgba(0, 0, 0, 0.3));\n",
              "      fill: #FFFFFF;\n",
              "    }\n",
              "  </style>\n",
              "\n",
              "      <script>\n",
              "        const buttonEl =\n",
              "          document.querySelector('#df-ca53aaf6-2477-47ac-b5c6-51ab937c8f0c button.colab-df-convert');\n",
              "        buttonEl.style.display =\n",
              "          google.colab.kernel.accessAllowed ? 'block' : 'none';\n",
              "\n",
              "        async function convertToInteractive(key) {\n",
              "          const element = document.querySelector('#df-ca53aaf6-2477-47ac-b5c6-51ab937c8f0c');\n",
              "          const dataTable =\n",
              "            await google.colab.kernel.invokeFunction('convertToInteractive',\n",
              "                                                     [key], {});\n",
              "          if (!dataTable) return;\n",
              "\n",
              "          const docLinkHtml = 'Like what you see? Visit the ' +\n",
              "            '<a target=\"_blank\" href=https://colab.research.google.com/notebooks/data_table.ipynb>data table notebook</a>'\n",
              "            + ' to learn more about interactive tables.';\n",
              "          element.innerHTML = '';\n",
              "          dataTable['output_type'] = 'display_data';\n",
              "          await google.colab.output.renderOutput(dataTable, element);\n",
              "          const docLink = document.createElement('div');\n",
              "          docLink.innerHTML = docLinkHtml;\n",
              "          element.appendChild(docLink);\n",
              "        }\n",
              "      </script>\n",
              "    </div>\n",
              "  </div>\n",
              "  "
            ]
          },
          "metadata": {},
          "execution_count": 27
        }
      ]
    },
    {
      "cell_type": "code",
      "metadata": {
        "id": "sKLOKZXg_rP0",
        "outputId": "a6a6f707-07c4-4500-cd79-331b3cf0f14b",
        "colab": {
          "base_uri": "https://localhost:8080/",
          "height": 391
        }
      },
      "source": [
        "plt.figure(figsize = (10,6))\n",
        "df_news['Polarity'].hist(color = 'purple')"
      ],
      "execution_count": 28,
      "outputs": [
        {
          "output_type": "execute_result",
          "data": {
            "text/plain": [
              "<matplotlib.axes._subplots.AxesSubplot at 0x7fd660a18250>"
            ]
          },
          "metadata": {},
          "execution_count": 28
        },
        {
          "output_type": "display_data",
          "data": {
            "text/plain": [
              "<Figure size 720x432 with 1 Axes>"
            ],
            "image/png": "[encoded data removed]"
          },
          "metadata": {
            "needs_background": "light"
          }
        }
      ]
    },
    {
      "cell_type": "code",
      "metadata": {
        "id": "H9Q2gW9oBW6G",
        "outputId": "a2d2cec1-ff4c-4545-e312-0fdf2fdcbb5a",
        "colab": {
          "base_uri": "https://localhost:8080/",
          "height": 391
        }
      },
      "source": [
        "plt.figure(figsize = (10,6))\n",
        "df_news['Subjectivity'].hist(color = 'blue')"
      ],
      "execution_count": 29,
      "outputs": [
        {
          "output_type": "execute_result",
          "data": {
            "text/plain": [
              "<matplotlib.axes._subplots.AxesSubplot at 0x7fd6660539d0>"
            ]
          },
          "metadata": {},
          "execution_count": 29
        },
        {
          "output_type": "display_data",
          "data": {
            "text/plain": [
              "<Figure size 720x432 with 1 Axes>"
            ],
            "image/png": "[encoded data removed]"
          },
          "metadata": {
            "needs_background": "light"
          }
        }
      ]
    },
    {
      "cell_type": "markdown",
      "source": [
        "*Adding sentiment score to df_news*"
      ],
      "metadata": {
        "id": "wI0nGnV-mgSh"
      }
    },
    {
      "cell_type": "code",
      "metadata": {
        "id": "KhpC_kViBfEM",
        "outputId": "5359a2d5-31fe-4c0c-f5ba-eb01100179d9",
        "colab": {
          "base_uri": "https://localhost:8080/",
          "height": 424
        }
      },
      "source": [
        "sia = SentimentIntensityAnalyzer()\n",
        "\n",
        "df_news['Compound'] = [sia.polarity_scores(v)['compound'] for v in df_news['News']]\n",
        "df_news['Negative'] = [sia.polarity_scores(v)['neg'] for v in df_news['News']]\n",
        "df_news['Neutral'] = [sia.polarity_scores(v)['neu'] for v in df_news['News']]\n",
        "df_news['Positive'] = [sia.polarity_scores(v)['pos'] for v in df_news['News']]\n",
        "df_news"
      ],
      "execution_count": 30,
      "outputs": [
        {
          "output_type": "execute_result",
          "data": {
            "text/plain": [
              "           Date                                               News  \\\n",
              "0    2001-01-02  statu quo disturb ayodhya say vajpaye fissur h...   \n",
              "1    2001-01-03  powerless north india grope dark think laxman ...   \n",
              "2    2001-01-04  string pull stephen hawk india vajpaye give bi...   \n",
              "3    2001-01-05  light combat craft take india club class hawk ...   \n",
              "4    2001-01-06  light combat craft take india club class hawk ...   \n",
              "...         ...                                                ...   \n",
              "7712 2022-03-27  play dead man bodi god meant sit refriger guru...   \n",
              "7713 2022-03-28  fashion becom democrat demand stylist soar las...   \n",
              "7714 2022-03-29  bobbi deol like dad hope work age yasha surya ...   \n",
              "7715 2022-03-30  give trend dossmod time gave boyfriend incred ...   \n",
              "7716 2022-03-31  shashank goe back coastal karnataka moggina ma...   \n",
              "\n",
              "      Subjectivity  Polarity  Compound  Negative  Neutral  Positive  \n",
              "0         0.298148  0.099074   -0.8555     0.125    0.773     0.102  \n",
              "1         0.429167  0.025000   -0.5994     0.132    0.755     0.113  \n",
              "2         0.475140  0.032481    0.9169     0.099    0.791     0.110  \n",
              "3         0.458412  0.296404   -0.3612     0.171    0.659     0.170  \n",
              "4         0.425758  0.389394   -0.7579     0.207    0.649     0.144  \n",
              "...            ...       ...       ...       ...      ...       ...  \n",
              "7712      0.356716  0.087855   -0.9999     0.149    0.782     0.069  \n",
              "7713      0.382331  0.079270   -0.9998     0.144    0.778     0.078  \n",
              "7714      0.372864  0.083037   -0.9997     0.129    0.799     0.072  \n",
              "7715      0.330696  0.052339   -0.9998     0.139    0.794     0.067  \n",
              "7716      0.311183  0.045025   -0.9998     0.130    0.808     0.061  \n",
              "\n",
              "[7717 rows x 8 columns]"
            ],
            "text/html": [
              "\n",
              "  <div id=\"df-b7f59868-d0d6-44f6-8b61-ae3d2c2ab15a\">\n",
              "    <div class=\"colab-df-container\">\n",
              "      <div>\n",
              "<style scoped>\n",
              "    .dataframe tbody tr th:only-of-type {\n",
              "        vertical-align: middle;\n",
              "    }\n",
              "\n",
              "    .dataframe tbody tr th {\n",
              "        vertical-align: top;\n",
              "    }\n",
              "\n",
              "    .dataframe thead th {\n",
              "        text-align: right;\n",
              "    }\n",
              "</style>\n",
              "<table border=\"1\" class=\"dataframe\">\n",
              "  <thead>\n",
              "    <tr style=\"text-align: right;\">\n",
              "      <th></th>\n",
              "      <th>Date</th>\n",
              "      <th>News</th>\n",
              "      <th>Subjectivity</th>\n",
              "      <th>Polarity</th>\n",
              "      <th>Compound</th>\n",
              "      <th>Negative</th>\n",
              "      <th>Neutral</th>\n",
              "      <th>Positive</th>\n",
              "    </tr>\n",
              "  </thead>\n",
              "  <tbody>\n",
              "    <tr>\n",
              "      <th>0</th>\n",
              "      <td>2001-01-02</td>\n",
              "      <td>statu quo disturb ayodhya say vajpaye fissur h...</td>\n",
              "      <td>0.298148</td>\n",
              "      <td>0.099074</td>\n",
              "      <td>-0.8555</td>\n",
              "      <td>0.125</td>\n",
              "      <td>0.773</td>\n",
              "      <td>0.102</td>\n",
              "    </tr>\n",
              "    <tr>\n",
              "      <th>1</th>\n",
              "      <td>2001-01-03</td>\n",
              "      <td>powerless north india grope dark think laxman ...</td>\n",
              "      <td>0.429167</td>\n",
              "      <td>0.025000</td>\n",
              "      <td>-0.5994</td>\n",
              "      <td>0.132</td>\n",
              "      <td>0.755</td>\n",
              "      <td>0.113</td>\n",
              "    </tr>\n",
              "    <tr>\n",
              "      <th>2</th>\n",
              "      <td>2001-01-04</td>\n",
              "      <td>string pull stephen hawk india vajpaye give bi...</td>\n",
              "      <td>0.475140</td>\n",
              "      <td>0.032481</td>\n",
              "      <td>0.9169</td>\n",
              "      <td>0.099</td>\n",
              "      <td>0.791</td>\n",
              "      <td>0.110</td>\n",
              "    </tr>\n",
              "    <tr>\n",
              "      <th>3</th>\n",
              "      <td>2001-01-05</td>\n",
              "      <td>light combat craft take india club class hawk ...</td>\n",
              "      <td>0.458412</td>\n",
              "      <td>0.296404</td>\n",
              "      <td>-0.3612</td>\n",
              "      <td>0.171</td>\n",
              "      <td>0.659</td>\n",
              "      <td>0.170</td>\n",
              "    </tr>\n",
              "    <tr>\n",
              "      <th>4</th>\n",
              "      <td>2001-01-06</td>\n",
              "      <td>light combat craft take india club class hawk ...</td>\n",
              "      <td>0.425758</td>\n",
              "      <td>0.389394</td>\n",
              "      <td>-0.7579</td>\n",
              "      <td>0.207</td>\n",
              "      <td>0.649</td>\n",
              "      <td>0.144</td>\n",
              "    </tr>\n",
              "    <tr>\n",
              "      <th>...</th>\n",
              "      <td>...</td>\n",
              "      <td>...</td>\n",
              "      <td>...</td>\n",
              "      <td>...</td>\n",
              "      <td>...</td>\n",
              "      <td>...</td>\n",
              "      <td>...</td>\n",
              "      <td>...</td>\n",
              "    </tr>\n",
              "    <tr>\n",
              "      <th>7712</th>\n",
              "      <td>2022-03-27</td>\n",
              "      <td>play dead man bodi god meant sit refriger guru...</td>\n",
              "      <td>0.356716</td>\n",
              "      <td>0.087855</td>\n",
              "      <td>-0.9999</td>\n",
              "      <td>0.149</td>\n",
              "      <td>0.782</td>\n",
              "      <td>0.069</td>\n",
              "    </tr>\n",
              "    <tr>\n",
              "      <th>7713</th>\n",
              "      <td>2022-03-28</td>\n",
              "      <td>fashion becom democrat demand stylist soar las...</td>\n",
              "      <td>0.382331</td>\n",
              "      <td>0.079270</td>\n",
              "      <td>-0.9998</td>\n",
              "      <td>0.144</td>\n",
              "      <td>0.778</td>\n",
              "      <td>0.078</td>\n",
              "    </tr>\n",
              "    <tr>\n",
              "      <th>7714</th>\n",
              "      <td>2022-03-29</td>\n",
              "      <td>bobbi deol like dad hope work age yasha surya ...</td>\n",
              "      <td>0.372864</td>\n",
              "      <td>0.083037</td>\n",
              "      <td>-0.9997</td>\n",
              "      <td>0.129</td>\n",
              "      <td>0.799</td>\n",
              "      <td>0.072</td>\n",
              "    </tr>\n",
              "    <tr>\n",
              "      <th>7715</th>\n",
              "      <td>2022-03-30</td>\n",
              "      <td>give trend dossmod time gave boyfriend incred ...</td>\n",
              "      <td>0.330696</td>\n",
              "      <td>0.052339</td>\n",
              "      <td>-0.9998</td>\n",
              "      <td>0.139</td>\n",
              "      <td>0.794</td>\n",
              "      <td>0.067</td>\n",
              "    </tr>\n",
              "    <tr>\n",
              "      <th>7716</th>\n",
              "      <td>2022-03-31</td>\n",
              "      <td>shashank goe back coastal karnataka moggina ma...</td>\n",
              "      <td>0.311183</td>\n",
              "      <td>0.045025</td>\n",
              "      <td>-0.9998</td>\n",
              "      <td>0.130</td>\n",
              "      <td>0.808</td>\n",
              "      <td>0.061</td>\n",
              "    </tr>\n",
              "  </tbody>\n",
              "</table>\n",
              "<p>7717 rows × 8 columns</p>\n",
              "</div>\n",
              "      <button class=\"colab-df-convert\" onclick=\"convertToInteractive('df-b7f59868-d0d6-44f6-8b61-ae3d2c2ab15a')\"\n",
              "              title=\"Convert this dataframe to an interactive table.\"\n",
              "              style=\"display:none;\">\n",
              "        \n",
              "  <svg xmlns=\"http://www.w3.org/2000/svg\" height=\"24px\"viewBox=\"0 0 24 24\"\n",
              "       width=\"24px\">\n",
              "    <path d=\"M0 0h24v24H0V0z\" fill=\"none\"/>\n",
              "    <path d=\"M18.56 5.44l.94 2.06.94-2.06 2.06-.94-2.06-.94-.94-2.06-.94 2.06-2.06.94zm-11 1L8.5 8.5l.94-2.06 2.06-.94-2.06-.94L8.5 2.5l-.94 2.06-2.06.94zm10 10l.94 2.06.94-2.06 2.06-.94-2.06-.94-.94-2.06-.94 2.06-2.06.94z\"/><path d=\"M17.41 7.96l-1.37-1.37c-.4-.4-.92-.59-1.43-.59-.52 0-1.04.2-1.43.59L10.3 9.45l-7.72 7.72c-.78.78-.78 2.05 0 2.83L4 21.41c.39.39.9.59 1.41.59.51 0 1.02-.2 1.41-.59l7.78-7.78 2.81-2.81c.8-.78.8-2.07 0-2.86zM5.41 20L4 18.59l7.72-7.72 1.47 1.35L5.41 20z\"/>\n",
              "  </svg>\n",
              "      </button>\n",
              "      \n",
              "  <style>\n",
              "    .colab-df-container {\n",
              "      display:flex;\n",
              "      flex-wrap:wrap;\n",
              "      gap: 12px;\n",
              "    }\n",
              "\n",
              "    .colab-df-convert {\n",
              "      background-color: #E8F0FE;\n",
              "      border: none;\n",
              "      border-radius: 50%;\n",
              "      cursor: pointer;\n",
              "      display: none;\n",
              "      fill: #1967D2;\n",
              "      height: 32px;\n",
              "      padding: 0 0 0 0;\n",
              "      width: 32px;\n",
              "    }\n",
              "\n",
              "    .colab-df-convert:hover {\n",
              "      background-color: #E2EBFA;\n",
              "      box-shadow: 0px 1px 2px rgba(60, 64, 67, 0.3), 0px 1px 3px 1px rgba(60, 64, 67, 0.15);\n",
              "      fill: #174EA6;\n",
              "    }\n",
              "\n",
              "    [theme=dark] .colab-df-convert {\n",
              "      background-color: #3B4455;\n",
              "      fill: #D2E3FC;\n",
              "    }\n",
              "\n",
              "    [theme=dark] .colab-df-convert:hover {\n",
              "      background-color: #434B5C;\n",
              "      box-shadow: 0px 1px 3px 1px rgba(0, 0, 0, 0.15);\n",
              "      filter: drop-shadow(0px 1px 2px rgba(0, 0, 0, 0.3));\n",
              "      fill: #FFFFFF;\n",
              "    }\n",
              "  </style>\n",
              "\n",
              "      <script>\n",
              "        const buttonEl =\n",
              "          document.querySelector('#df-b7f59868-d0d6-44f6-8b61-ae3d2c2ab15a button.colab-df-convert');\n",
              "        buttonEl.style.display =\n",
              "          google.colab.kernel.accessAllowed ? 'block' : 'none';\n",
              "\n",
              "        async function convertToInteractive(key) {\n",
              "          const element = document.querySelector('#df-b7f59868-d0d6-44f6-8b61-ae3d2c2ab15a');\n",
              "          const dataTable =\n",
              "            await google.colab.kernel.invokeFunction('convertToInteractive',\n",
              "                                                     [key], {});\n",
              "          if (!dataTable) return;\n",
              "\n",
              "          const docLinkHtml = 'Like what you see? Visit the ' +\n",
              "            '<a target=\"_blank\" href=https://colab.research.google.com/notebooks/data_table.ipynb>data table notebook</a>'\n",
              "            + ' to learn more about interactive tables.';\n",
              "          element.innerHTML = '';\n",
              "          dataTable['output_type'] = 'display_data';\n",
              "          await google.colab.output.renderOutput(dataTable, element);\n",
              "          const docLink = document.createElement('div');\n",
              "          docLink.innerHTML = docLinkHtml;\n",
              "          element.appendChild(docLink);\n",
              "        }\n",
              "      </script>\n",
              "    </div>\n",
              "  </div>\n",
              "  "
            ]
          },
          "metadata": {},
          "execution_count": 30
        }
      ]
    },
    {
      "cell_type": "code",
      "metadata": {
        "id": "z6P2SKvLFY9M",
        "outputId": "44d597be-e000-414a-e70b-07f671472e59",
        "colab": {
          "base_uri": "https://localhost:8080/",
          "height": 659
        }
      },
      "source": [
        "df_merge = pd.merge(df_prices, df_news, how='inner', on='Date')\n",
        "df_merge"
      ],
      "execution_count": 31,
      "outputs": [
        {
          "output_type": "execute_result",
          "data": {
            "text/plain": [
              "      Unnamed: 0       Date          Open          High           Low  \\\n",
              "0              0 2017-07-19  31882.800781  31978.890625  31793.720703   \n",
              "1              1 2017-07-20  32033.820313  32057.119141  31859.500000   \n",
              "2              2 2017-07-21  32035.880859  32062.230469  31808.929688   \n",
              "3              3 2017-07-24  32100.220703  32320.859375  32058.330078   \n",
              "4              4 2017-07-25  32350.710938  32374.300781  32196.859375   \n",
              "...          ...        ...           ...           ...           ...   \n",
              "1152        1157 2022-03-25  57801.718750  57845.371094  57100.238281   \n",
              "1153        1158 2022-03-28  57472.718750  57638.339844  56825.089844   \n",
              "1154        1159 2022-03-29  57814.761719  58001.531250  57639.351563   \n",
              "1155        1160 2022-03-30  58362.851563  58727.781250  58176.000000   \n",
              "1156        1161 2022-03-31  58779.710938  58890.921875  58485.789063   \n",
              "\n",
              "             Close     Adj Close   Volume  \\\n",
              "0     31955.349609  31955.349609  11300.0   \n",
              "1     31904.400391  31904.400391  11200.0   \n",
              "2     32028.890625  32028.890625  18000.0   \n",
              "3     32245.869141  32245.869141  11500.0   \n",
              "4     32228.269531  32228.269531  14100.0   \n",
              "...            ...           ...      ...   \n",
              "1152  57362.199219  57362.199219   6900.0   \n",
              "1153  57593.488281  57593.488281   6300.0   \n",
              "1154  57943.648438  57943.648438  12100.0   \n",
              "1155  58683.988281  58683.988281   6300.0   \n",
              "1156  58568.511719  58568.511719   4400.0   \n",
              "\n",
              "                                                   News  Subjectivity  \\\n",
              "0     big name india us inc root independ us india b...      0.375974   \n",
              "1     new zuari bridg miss deadlin recoveri lucki se...      0.351111   \n",
              "2     rp exercis start scratch base rp micro review ...      0.351129   \n",
              "3     stop arteri blockag key healthi heart gsl deli...      0.375890   \n",
              "4     man set wife fire suspect fidel kiara advani s...      0.392433   \n",
              "...                                                 ...           ...   \n",
              "1152  speed shortcut tackl unruli custom take deliv ...      0.377083   \n",
              "1153  fashion becom democrat demand stylist soar las...      0.382331   \n",
              "1154  bobbi deol like dad hope work age yasha surya ...      0.372864   \n",
              "1155  give trend dossmod time gave boyfriend incred ...      0.330696   \n",
              "1156  shashank goe back coastal karnataka moggina ma...      0.311183   \n",
              "\n",
              "      Polarity  Compound  Negative  Neutral  Positive  \n",
              "0     0.021692   -0.9999     0.161    0.758     0.080  \n",
              "1     0.073642   -0.9992     0.124    0.776     0.100  \n",
              "2     0.049974   -0.9997     0.132    0.776     0.091  \n",
              "3     0.077818   -0.9998     0.140    0.771     0.089  \n",
              "4     0.041458   -0.9999     0.150    0.767     0.083  \n",
              "...        ...       ...       ...      ...       ...  \n",
              "1152  0.026320   -0.9999     0.146    0.795     0.059  \n",
              "1153  0.079270   -0.9998     0.144    0.778     0.078  \n",
              "1154  0.083037   -0.9997     0.129    0.799     0.072  \n",
              "1155  0.052339   -0.9998     0.139    0.794     0.067  \n",
              "1156  0.045025   -0.9998     0.130    0.808     0.061  \n",
              "\n",
              "[1157 rows x 15 columns]"
            ],
            "text/html": [
              "\n",
              "  <div id=\"df-c5197d8c-8b48-41a6-be84-30be74a9d1a1\">\n",
              "    <div class=\"colab-df-container\">\n",
              "      <div>\n",
              "<style scoped>\n",
              "    .dataframe tbody tr th:only-of-type {\n",
              "        vertical-align: middle;\n",
              "    }\n",
              "\n",
              "    .dataframe tbody tr th {\n",
              "        vertical-align: top;\n",
              "    }\n",
              "\n",
              "    .dataframe thead th {\n",
              "        text-align: right;\n",
              "    }\n",
              "</style>\n",
              "<table border=\"1\" class=\"dataframe\">\n",
              "  <thead>\n",
              "    <tr style=\"text-align: right;\">\n",
              "      <th></th>\n",
              "      <th>Unnamed: 0</th>\n",
              "      <th>Date</th>\n",
              "      <th>Open</th>\n",
              "      <th>High</th>\n",
              "      <th>Low</th>\n",
              "      <th>Close</th>\n",
              "      <th>Adj Close</th>\n",
              "      <th>Volume</th>\n",
              "      <th>News</th>\n",
              "      <th>Subjectivity</th>\n",
              "      <th>Polarity</th>\n",
              "      <th>Compound</th>\n",
              "      <th>Negative</th>\n",
              "      <th>Neutral</th>\n",
              "      <th>Positive</th>\n",
              "    </tr>\n",
              "  </thead>\n",
              "  <tbody>\n",
              "    <tr>\n",
              "      <th>0</th>\n",
              "      <td>0</td>\n",
              "      <td>2017-07-19</td>\n",
              "      <td>31882.800781</td>\n",
              "      <td>31978.890625</td>\n",
              "      <td>31793.720703</td>\n",
              "      <td>31955.349609</td>\n",
              "      <td>31955.349609</td>\n",
              "      <td>11300.0</td>\n",
              "      <td>big name india us inc root independ us india b...</td>\n",
              "      <td>0.375974</td>\n",
              "      <td>0.021692</td>\n",
              "      <td>-0.9999</td>\n",
              "      <td>0.161</td>\n",
              "      <td>0.758</td>\n",
              "      <td>0.080</td>\n",
              "    </tr>\n",
              "    <tr>\n",
              "      <th>1</th>\n",
              "      <td>1</td>\n",
              "      <td>2017-07-20</td>\n",
              "      <td>32033.820313</td>\n",
              "      <td>32057.119141</td>\n",
              "      <td>31859.500000</td>\n",
              "      <td>31904.400391</td>\n",
              "      <td>31904.400391</td>\n",
              "      <td>11200.0</td>\n",
              "      <td>new zuari bridg miss deadlin recoveri lucki se...</td>\n",
              "      <td>0.351111</td>\n",
              "      <td>0.073642</td>\n",
              "      <td>-0.9992</td>\n",
              "      <td>0.124</td>\n",
              "      <td>0.776</td>\n",
              "      <td>0.100</td>\n",
              "    </tr>\n",
              "    <tr>\n",
              "      <th>2</th>\n",
              "      <td>2</td>\n",
              "      <td>2017-07-21</td>\n",
              "      <td>32035.880859</td>\n",
              "      <td>32062.230469</td>\n",
              "      <td>31808.929688</td>\n",
              "      <td>32028.890625</td>\n",
              "      <td>32028.890625</td>\n",
              "      <td>18000.0</td>\n",
              "      <td>rp exercis start scratch base rp micro review ...</td>\n",
              "      <td>0.351129</td>\n",
              "      <td>0.049974</td>\n",
              "      <td>-0.9997</td>\n",
              "      <td>0.132</td>\n",
              "      <td>0.776</td>\n",
              "      <td>0.091</td>\n",
              "    </tr>\n",
              "    <tr>\n",
              "      <th>3</th>\n",
              "      <td>3</td>\n",
              "      <td>2017-07-24</td>\n",
              "      <td>32100.220703</td>\n",
              "      <td>32320.859375</td>\n",
              "      <td>32058.330078</td>\n",
              "      <td>32245.869141</td>\n",
              "      <td>32245.869141</td>\n",
              "      <td>11500.0</td>\n",
              "      <td>stop arteri blockag key healthi heart gsl deli...</td>\n",
              "      <td>0.375890</td>\n",
              "      <td>0.077818</td>\n",
              "      <td>-0.9998</td>\n",
              "      <td>0.140</td>\n",
              "      <td>0.771</td>\n",
              "      <td>0.089</td>\n",
              "    </tr>\n",
              "    <tr>\n",
              "      <th>4</th>\n",
              "      <td>4</td>\n",
              "      <td>2017-07-25</td>\n",
              "      <td>32350.710938</td>\n",
              "      <td>32374.300781</td>\n",
              "      <td>32196.859375</td>\n",
              "      <td>32228.269531</td>\n",
              "      <td>32228.269531</td>\n",
              "      <td>14100.0</td>\n",
              "      <td>man set wife fire suspect fidel kiara advani s...</td>\n",
              "      <td>0.392433</td>\n",
              "      <td>0.041458</td>\n",
              "      <td>-0.9999</td>\n",
              "      <td>0.150</td>\n",
              "      <td>0.767</td>\n",
              "      <td>0.083</td>\n",
              "    </tr>\n",
              "    <tr>\n",
              "      <th>...</th>\n",
              "      <td>...</td>\n",
              "      <td>...</td>\n",
              "      <td>...</td>\n",
              "      <td>...</td>\n",
              "      <td>...</td>\n",
              "      <td>...</td>\n",
              "      <td>...</td>\n",
              "      <td>...</td>\n",
              "      <td>...</td>\n",
              "      <td>...</td>\n",
              "      <td>...</td>\n",
              "      <td>...</td>\n",
              "      <td>...</td>\n",
              "      <td>...</td>\n",
              "      <td>...</td>\n",
              "    </tr>\n",
              "    <tr>\n",
              "      <th>1152</th>\n",
              "      <td>1157</td>\n",
              "      <td>2022-03-25</td>\n",
              "      <td>57801.718750</td>\n",
              "      <td>57845.371094</td>\n",
              "      <td>57100.238281</td>\n",
              "      <td>57362.199219</td>\n",
              "      <td>57362.199219</td>\n",
              "      <td>6900.0</td>\n",
              "      <td>speed shortcut tackl unruli custom take deliv ...</td>\n",
              "      <td>0.377083</td>\n",
              "      <td>0.026320</td>\n",
              "      <td>-0.9999</td>\n",
              "      <td>0.146</td>\n",
              "      <td>0.795</td>\n",
              "      <td>0.059</td>\n",
              "    </tr>\n",
              "    <tr>\n",
              "      <th>1153</th>\n",
              "      <td>1158</td>\n",
              "      <td>2022-03-28</td>\n",
              "      <td>57472.718750</td>\n",
              "      <td>57638.339844</td>\n",
              "      <td>56825.089844</td>\n",
              "      <td>57593.488281</td>\n",
              "      <td>57593.488281</td>\n",
              "      <td>6300.0</td>\n",
              "      <td>fashion becom democrat demand stylist soar las...</td>\n",
              "      <td>0.382331</td>\n",
              "      <td>0.079270</td>\n",
              "      <td>-0.9998</td>\n",
              "      <td>0.144</td>\n",
              "      <td>0.778</td>\n",
              "      <td>0.078</td>\n",
              "    </tr>\n",
              "    <tr>\n",
              "      <th>1154</th>\n",
              "      <td>1159</td>\n",
              "      <td>2022-03-29</td>\n",
              "      <td>57814.761719</td>\n",
              "      <td>58001.531250</td>\n",
              "      <td>57639.351563</td>\n",
              "      <td>57943.648438</td>\n",
              "      <td>57943.648438</td>\n",
              "      <td>12100.0</td>\n",
              "      <td>bobbi deol like dad hope work age yasha surya ...</td>\n",
              "      <td>0.372864</td>\n",
              "      <td>0.083037</td>\n",
              "      <td>-0.9997</td>\n",
              "      <td>0.129</td>\n",
              "      <td>0.799</td>\n",
              "      <td>0.072</td>\n",
              "    </tr>\n",
              "    <tr>\n",
              "      <th>1155</th>\n",
              "      <td>1160</td>\n",
              "      <td>2022-03-30</td>\n",
              "      <td>58362.851563</td>\n",
              "      <td>58727.781250</td>\n",
              "      <td>58176.000000</td>\n",
              "      <td>58683.988281</td>\n",
              "      <td>58683.988281</td>\n",
              "      <td>6300.0</td>\n",
              "      <td>give trend dossmod time gave boyfriend incred ...</td>\n",
              "      <td>0.330696</td>\n",
              "      <td>0.052339</td>\n",
              "      <td>-0.9998</td>\n",
              "      <td>0.139</td>\n",
              "      <td>0.794</td>\n",
              "      <td>0.067</td>\n",
              "    </tr>\n",
              "    <tr>\n",
              "      <th>1156</th>\n",
              "      <td>1161</td>\n",
              "      <td>2022-03-31</td>\n",
              "      <td>58779.710938</td>\n",
              "      <td>58890.921875</td>\n",
              "      <td>58485.789063</td>\n",
              "      <td>58568.511719</td>\n",
              "      <td>58568.511719</td>\n",
              "      <td>4400.0</td>\n",
              "      <td>shashank goe back coastal karnataka moggina ma...</td>\n",
              "      <td>0.311183</td>\n",
              "      <td>0.045025</td>\n",
              "      <td>-0.9998</td>\n",
              "      <td>0.130</td>\n",
              "      <td>0.808</td>\n",
              "      <td>0.061</td>\n",
              "    </tr>\n",
              "  </tbody>\n",
              "</table>\n",
              "<p>1157 rows × 15 columns</p>\n",
              "</div>\n",
              "      <button class=\"colab-df-convert\" onclick=\"convertToInteractive('df-c5197d8c-8b48-41a6-be84-30be74a9d1a1')\"\n",
              "              title=\"Convert this dataframe to an interactive table.\"\n",
              "              style=\"display:none;\">\n",
              "        \n",
              "  <svg xmlns=\"http://www.w3.org/2000/svg\" height=\"24px\"viewBox=\"0 0 24 24\"\n",
              "       width=\"24px\">\n",
              "    <path d=\"M0 0h24v24H0V0z\" fill=\"none\"/>\n",
              "    <path d=\"M18.56 5.44l.94 2.06.94-2.06 2.06-.94-2.06-.94-.94-2.06-.94 2.06-2.06.94zm-11 1L8.5 8.5l.94-2.06 2.06-.94-2.06-.94L8.5 2.5l-.94 2.06-2.06.94zm10 10l.94 2.06.94-2.06 2.06-.94-2.06-.94-.94-2.06-.94 2.06-2.06.94z\"/><path d=\"M17.41 7.96l-1.37-1.37c-.4-.4-.92-.59-1.43-.59-.52 0-1.04.2-1.43.59L10.3 9.45l-7.72 7.72c-.78.78-.78 2.05 0 2.83L4 21.41c.39.39.9.59 1.41.59.51 0 1.02-.2 1.41-.59l7.78-7.78 2.81-2.81c.8-.78.8-2.07 0-2.86zM5.41 20L4 18.59l7.72-7.72 1.47 1.35L5.41 20z\"/>\n",
              "  </svg>\n",
              "      </button>\n",
              "      \n",
              "  <style>\n",
              "    .colab-df-container {\n",
              "      display:flex;\n",
              "      flex-wrap:wrap;\n",
              "      gap: 12px;\n",
              "    }\n",
              "\n",
              "    .colab-df-convert {\n",
              "      background-color: #E8F0FE;\n",
              "      border: none;\n",
              "      border-radius: 50%;\n",
              "      cursor: pointer;\n",
              "      display: none;\n",
              "      fill: #1967D2;\n",
              "      height: 32px;\n",
              "      padding: 0 0 0 0;\n",
              "      width: 32px;\n",
              "    }\n",
              "\n",
              "    .colab-df-convert:hover {\n",
              "      background-color: #E2EBFA;\n",
              "      box-shadow: 0px 1px 2px rgba(60, 64, 67, 0.3), 0px 1px 3px 1px rgba(60, 64, 67, 0.15);\n",
              "      fill: #174EA6;\n",
              "    }\n",
              "\n",
              "    [theme=dark] .colab-df-convert {\n",
              "      background-color: #3B4455;\n",
              "      fill: #D2E3FC;\n",
              "    }\n",
              "\n",
              "    [theme=dark] .colab-df-convert:hover {\n",
              "      background-color: #434B5C;\n",
              "      box-shadow: 0px 1px 3px 1px rgba(0, 0, 0, 0.15);\n",
              "      filter: drop-shadow(0px 1px 2px rgba(0, 0, 0, 0.3));\n",
              "      fill: #FFFFFF;\n",
              "    }\n",
              "  </style>\n",
              "\n",
              "      <script>\n",
              "        const buttonEl =\n",
              "          document.querySelector('#df-c5197d8c-8b48-41a6-be84-30be74a9d1a1 button.colab-df-convert');\n",
              "        buttonEl.style.display =\n",
              "          google.colab.kernel.accessAllowed ? 'block' : 'none';\n",
              "\n",
              "        async function convertToInteractive(key) {\n",
              "          const element = document.querySelector('#df-c5197d8c-8b48-41a6-be84-30be74a9d1a1');\n",
              "          const dataTable =\n",
              "            await google.colab.kernel.invokeFunction('convertToInteractive',\n",
              "                                                     [key], {});\n",
              "          if (!dataTable) return;\n",
              "\n",
              "          const docLinkHtml = 'Like what you see? Visit the ' +\n",
              "            '<a target=\"_blank\" href=https://colab.research.google.com/notebooks/data_table.ipynb>data table notebook</a>'\n",
              "            + ' to learn more about interactive tables.';\n",
              "          element.innerHTML = '';\n",
              "          dataTable['output_type'] = 'display_data';\n",
              "          await google.colab.output.renderOutput(dataTable, element);\n",
              "          const docLink = document.createElement('div');\n",
              "          docLink.innerHTML = docLinkHtml;\n",
              "          element.appendChild(docLink);\n",
              "        }\n",
              "      </script>\n",
              "    </div>\n",
              "  </div>\n",
              "  "
            ]
          },
          "metadata": {},
          "execution_count": 31
        }
      ]
    },
    {
      "cell_type": "code",
      "metadata": {
        "id": "Ju9y5HJ4Fe8P",
        "outputId": "eaf031d5-700d-4f27-bd7d-ef44923e3929",
        "colab": {
          "base_uri": "https://localhost:8080/",
          "height": 424
        }
      },
      "source": [
        "df = df_merge[['Close','Subjectivity', 'Polarity', 'Compound', 'Negative', 'Neutral' ,'Positive']]\n",
        "df"
      ],
      "execution_count": 32,
      "outputs": [
        {
          "output_type": "execute_result",
          "data": {
            "text/plain": [
              "             Close  Subjectivity  Polarity  Compound  Negative  Neutral  \\\n",
              "0     31955.349609      0.375974  0.021692   -0.9999     0.161    0.758   \n",
              "1     31904.400391      0.351111  0.073642   -0.9992     0.124    0.776   \n",
              "2     32028.890625      0.351129  0.049974   -0.9997     0.132    0.776   \n",
              "3     32245.869141      0.375890  0.077818   -0.9998     0.140    0.771   \n",
              "4     32228.269531      0.392433  0.041458   -0.9999     0.150    0.767   \n",
              "...            ...           ...       ...       ...       ...      ...   \n",
              "1152  57362.199219      0.377083  0.026320   -0.9999     0.146    0.795   \n",
              "1153  57593.488281      0.382331  0.079270   -0.9998     0.144    0.778   \n",
              "1154  57943.648438      0.372864  0.083037   -0.9997     0.129    0.799   \n",
              "1155  58683.988281      0.330696  0.052339   -0.9998     0.139    0.794   \n",
              "1156  58568.511719      0.311183  0.045025   -0.9998     0.130    0.808   \n",
              "\n",
              "      Positive  \n",
              "0        0.080  \n",
              "1        0.100  \n",
              "2        0.091  \n",
              "3        0.089  \n",
              "4        0.083  \n",
              "...        ...  \n",
              "1152     0.059  \n",
              "1153     0.078  \n",
              "1154     0.072  \n",
              "1155     0.067  \n",
              "1156     0.061  \n",
              "\n",
              "[1157 rows x 7 columns]"
            ],
            "text/html": [
              "\n",
              "  <div id=\"df-a53ca2d7-23e9-4f55-941d-ae762bcbb2da\">\n",
              "    <div class=\"colab-df-container\">\n",
              "      <div>\n",
              "<style scoped>\n",
              "    .dataframe tbody tr th:only-of-type {\n",
              "        vertical-align: middle;\n",
              "    }\n",
              "\n",
              "    .dataframe tbody tr th {\n",
              "        vertical-align: top;\n",
              "    }\n",
              "\n",
              "    .dataframe thead th {\n",
              "        text-align: right;\n",
              "    }\n",
              "</style>\n",
              "<table border=\"1\" class=\"dataframe\">\n",
              "  <thead>\n",
              "    <tr style=\"text-align: right;\">\n",
              "      <th></th>\n",
              "      <th>Close</th>\n",
              "      <th>Subjectivity</th>\n",
              "      <th>Polarity</th>\n",
              "      <th>Compound</th>\n",
              "      <th>Negative</th>\n",
              "      <th>Neutral</th>\n",
              "      <th>Positive</th>\n",
              "    </tr>\n",
              "  </thead>\n",
              "  <tbody>\n",
              "    <tr>\n",
              "      <th>0</th>\n",
              "      <td>31955.349609</td>\n",
              "      <td>0.375974</td>\n",
              "      <td>0.021692</td>\n",
              "      <td>-0.9999</td>\n",
              "      <td>0.161</td>\n",
              "      <td>0.758</td>\n",
              "      <td>0.080</td>\n",
              "    </tr>\n",
              "    <tr>\n",
              "      <th>1</th>\n",
              "      <td>31904.400391</td>\n",
              "      <td>0.351111</td>\n",
              "      <td>0.073642</td>\n",
              "      <td>-0.9992</td>\n",
              "      <td>0.124</td>\n",
              "      <td>0.776</td>\n",
              "      <td>0.100</td>\n",
              "    </tr>\n",
              "    <tr>\n",
              "      <th>2</th>\n",
              "      <td>32028.890625</td>\n",
              "      <td>0.351129</td>\n",
              "      <td>0.049974</td>\n",
              "      <td>-0.9997</td>\n",
              "      <td>0.132</td>\n",
              "      <td>0.776</td>\n",
              "      <td>0.091</td>\n",
              "    </tr>\n",
              "    <tr>\n",
              "      <th>3</th>\n",
              "      <td>32245.869141</td>\n",
              "      <td>0.375890</td>\n",
              "      <td>0.077818</td>\n",
              "      <td>-0.9998</td>\n",
              "      <td>0.140</td>\n",
              "      <td>0.771</td>\n",
              "      <td>0.089</td>\n",
              "    </tr>\n",
              "    <tr>\n",
              "      <th>4</th>\n",
              "      <td>32228.269531</td>\n",
              "      <td>0.392433</td>\n",
              "      <td>0.041458</td>\n",
              "      <td>-0.9999</td>\n",
              "      <td>0.150</td>\n",
              "      <td>0.767</td>\n",
              "      <td>0.083</td>\n",
              "    </tr>\n",
              "    <tr>\n",
              "      <th>...</th>\n",
              "      <td>...</td>\n",
              "      <td>...</td>\n",
              "      <td>...</td>\n",
              "      <td>...</td>\n",
              "      <td>...</td>\n",
              "      <td>...</td>\n",
              "      <td>...</td>\n",
              "    </tr>\n",
              "    <tr>\n",
              "      <th>1152</th>\n",
              "      <td>57362.199219</td>\n",
              "      <td>0.377083</td>\n",
              "      <td>0.026320</td>\n",
              "      <td>-0.9999</td>\n",
              "      <td>0.146</td>\n",
              "      <td>0.795</td>\n",
              "      <td>0.059</td>\n",
              "    </tr>\n",
              "    <tr>\n",
              "      <th>1153</th>\n",
              "      <td>57593.488281</td>\n",
              "      <td>0.382331</td>\n",
              "      <td>0.079270</td>\n",
              "      <td>-0.9998</td>\n",
              "      <td>0.144</td>\n",
              "      <td>0.778</td>\n",
              "      <td>0.078</td>\n",
              "    </tr>\n",
              "    <tr>\n",
              "      <th>1154</th>\n",
              "      <td>57943.648438</td>\n",
              "      <td>0.372864</td>\n",
              "      <td>0.083037</td>\n",
              "      <td>-0.9997</td>\n",
              "      <td>0.129</td>\n",
              "      <td>0.799</td>\n",
              "      <td>0.072</td>\n",
              "    </tr>\n",
              "    <tr>\n",
              "      <th>1155</th>\n",
              "      <td>58683.988281</td>\n",
              "      <td>0.330696</td>\n",
              "      <td>0.052339</td>\n",
              "      <td>-0.9998</td>\n",
              "      <td>0.139</td>\n",
              "      <td>0.794</td>\n",
              "      <td>0.067</td>\n",
              "    </tr>\n",
              "    <tr>\n",
              "      <th>1156</th>\n",
              "      <td>58568.511719</td>\n",
              "      <td>0.311183</td>\n",
              "      <td>0.045025</td>\n",
              "      <td>-0.9998</td>\n",
              "      <td>0.130</td>\n",
              "      <td>0.808</td>\n",
              "      <td>0.061</td>\n",
              "    </tr>\n",
              "  </tbody>\n",
              "</table>\n",
              "<p>1157 rows × 7 columns</p>\n",
              "</div>\n",
              "      <button class=\"colab-df-convert\" onclick=\"convertToInteractive('df-a53ca2d7-23e9-4f55-941d-ae762bcbb2da')\"\n",
              "              title=\"Convert this dataframe to an interactive table.\"\n",
              "              style=\"display:none;\">\n",
              "        \n",
              "  <svg xmlns=\"http://www.w3.org/2000/svg\" height=\"24px\"viewBox=\"0 0 24 24\"\n",
              "       width=\"24px\">\n",
              "    <path d=\"M0 0h24v24H0V0z\" fill=\"none\"/>\n",
              "    <path d=\"M18.56 5.44l.94 2.06.94-2.06 2.06-.94-2.06-.94-.94-2.06-.94 2.06-2.06.94zm-11 1L8.5 8.5l.94-2.06 2.06-.94-2.06-.94L8.5 2.5l-.94 2.06-2.06.94zm10 10l.94 2.06.94-2.06 2.06-.94-2.06-.94-.94-2.06-.94 2.06-2.06.94z\"/><path d=\"M17.41 7.96l-1.37-1.37c-.4-.4-.92-.59-1.43-.59-.52 0-1.04.2-1.43.59L10.3 9.45l-7.72 7.72c-.78.78-.78 2.05 0 2.83L4 21.41c.39.39.9.59 1.41.59.51 0 1.02-.2 1.41-.59l7.78-7.78 2.81-2.81c.8-.78.8-2.07 0-2.86zM5.41 20L4 18.59l7.72-7.72 1.47 1.35L5.41 20z\"/>\n",
              "  </svg>\n",
              "      </button>\n",
              "      \n",
              "  <style>\n",
              "    .colab-df-container {\n",
              "      display:flex;\n",
              "      flex-wrap:wrap;\n",
              "      gap: 12px;\n",
              "    }\n",
              "\n",
              "    .colab-df-convert {\n",
              "      background-color: #E8F0FE;\n",
              "      border: none;\n",
              "      border-radius: 50%;\n",
              "      cursor: pointer;\n",
              "      display: none;\n",
              "      fill: #1967D2;\n",
              "      height: 32px;\n",
              "      padding: 0 0 0 0;\n",
              "      width: 32px;\n",
              "    }\n",
              "\n",
              "    .colab-df-convert:hover {\n",
              "      background-color: #E2EBFA;\n",
              "      box-shadow: 0px 1px 2px rgba(60, 64, 67, 0.3), 0px 1px 3px 1px rgba(60, 64, 67, 0.15);\n",
              "      fill: #174EA6;\n",
              "    }\n",
              "\n",
              "    [theme=dark] .colab-df-convert {\n",
              "      background-color: #3B4455;\n",
              "      fill: #D2E3FC;\n",
              "    }\n",
              "\n",
              "    [theme=dark] .colab-df-convert:hover {\n",
              "      background-color: #434B5C;\n",
              "      box-shadow: 0px 1px 3px 1px rgba(0, 0, 0, 0.15);\n",
              "      filter: drop-shadow(0px 1px 2px rgba(0, 0, 0, 0.3));\n",
              "      fill: #FFFFFF;\n",
              "    }\n",
              "  </style>\n",
              "\n",
              "      <script>\n",
              "        const buttonEl =\n",
              "          document.querySelector('#df-a53ca2d7-23e9-4f55-941d-ae762bcbb2da button.colab-df-convert');\n",
              "        buttonEl.style.display =\n",
              "          google.colab.kernel.accessAllowed ? 'block' : 'none';\n",
              "\n",
              "        async function convertToInteractive(key) {\n",
              "          const element = document.querySelector('#df-a53ca2d7-23e9-4f55-941d-ae762bcbb2da');\n",
              "          const dataTable =\n",
              "            await google.colab.kernel.invokeFunction('convertToInteractive',\n",
              "                                                     [key], {});\n",
              "          if (!dataTable) return;\n",
              "\n",
              "          const docLinkHtml = 'Like what you see? Visit the ' +\n",
              "            '<a target=\"_blank\" href=https://colab.research.google.com/notebooks/data_table.ipynb>data table notebook</a>'\n",
              "            + ' to learn more about interactive tables.';\n",
              "          element.innerHTML = '';\n",
              "          dataTable['output_type'] = 'display_data';\n",
              "          await google.colab.output.renderOutput(dataTable, element);\n",
              "          const docLink = document.createElement('div');\n",
              "          docLink.innerHTML = docLinkHtml;\n",
              "          element.appendChild(docLink);\n",
              "        }\n",
              "      </script>\n",
              "    </div>\n",
              "  </div>\n",
              "  "
            ]
          },
          "metadata": {},
          "execution_count": 32
        }
      ]
    },
    {
      "cell_type": "code",
      "metadata": {
        "id": "9cr5VpvHxOHV",
        "outputId": "73d42f1a-9879-4c44-f66e-ffdeb52cc03e",
        "colab": {
          "base_uri": "https://localhost:8080/",
          "height": 206
        }
      },
      "source": [
        "from sklearn.preprocessing import MinMaxScaler\n",
        "sc = MinMaxScaler()\n",
        "new_df = pd.DataFrame(sc.fit_transform(df))\n",
        "new_df.columns = df.columns\n",
        "new_df.index = df.index\n",
        "new_df.head()"
      ],
      "execution_count": 33,
      "outputs": [
        {
          "output_type": "execute_result",
          "data": {
            "text/plain": [
              "      Close  Subjectivity  Polarity  Compound  Negative   Neutral  Positive\n",
              "0  0.166948      0.301192  0.110142   0.00005  0.740741  0.239316  0.485294\n",
              "1  0.165524      0.195663  0.273531   0.00040  0.398148  0.393162  0.779412\n",
              "2  0.169003      0.195740  0.199093   0.00015  0.472222  0.393162  0.647059\n",
              "3  0.175066      0.300838  0.286668   0.00010  0.546296  0.350427  0.617647\n",
              "4  0.174574      0.371054  0.172307   0.00005  0.638889  0.316239  0.529412"
            ],
            "text/html": [
              "\n",
              "  <div id=\"df-43223de0-aca2-45f6-b971-9d8d8e2844c3\">\n",
              "    <div class=\"colab-df-container\">\n",
              "      <div>\n",
              "<style scoped>\n",
              "    .dataframe tbody tr th:only-of-type {\n",
              "        vertical-align: middle;\n",
              "    }\n",
              "\n",
              "    .dataframe tbody tr th {\n",
              "        vertical-align: top;\n",
              "    }\n",
              "\n",
              "    .dataframe thead th {\n",
              "        text-align: right;\n",
              "    }\n",
              "</style>\n",
              "<table border=\"1\" class=\"dataframe\">\n",
              "  <thead>\n",
              "    <tr style=\"text-align: right;\">\n",
              "      <th></th>\n",
              "      <th>Close</th>\n",
              "      <th>Subjectivity</th>\n",
              "      <th>Polarity</th>\n",
              "      <th>Compound</th>\n",
              "      <th>Negative</th>\n",
              "      <th>Neutral</th>\n",
              "      <th>Positive</th>\n",
              "    </tr>\n",
              "  </thead>\n",
              "  <tbody>\n",
              "    <tr>\n",
              "      <th>0</th>\n",
              "      <td>0.166948</td>\n",
              "      <td>0.301192</td>\n",
              "      <td>0.110142</td>\n",
              "      <td>0.00005</td>\n",
              "      <td>0.740741</td>\n",
              "      <td>0.239316</td>\n",
              "      <td>0.485294</td>\n",
              "    </tr>\n",
              "    <tr>\n",
              "      <th>1</th>\n",
              "      <td>0.165524</td>\n",
              "      <td>0.195663</td>\n",
              "      <td>0.273531</td>\n",
              "      <td>0.00040</td>\n",
              "      <td>0.398148</td>\n",
              "      <td>0.393162</td>\n",
              "      <td>0.779412</td>\n",
              "    </tr>\n",
              "    <tr>\n",
              "      <th>2</th>\n",
              "      <td>0.169003</td>\n",
              "      <td>0.195740</td>\n",
              "      <td>0.199093</td>\n",
              "      <td>0.00015</td>\n",
              "      <td>0.472222</td>\n",
              "      <td>0.393162</td>\n",
              "      <td>0.647059</td>\n",
              "    </tr>\n",
              "    <tr>\n",
              "      <th>3</th>\n",
              "      <td>0.175066</td>\n",
              "      <td>0.300838</td>\n",
              "      <td>0.286668</td>\n",
              "      <td>0.00010</td>\n",
              "      <td>0.546296</td>\n",
              "      <td>0.350427</td>\n",
              "      <td>0.617647</td>\n",
              "    </tr>\n",
              "    <tr>\n",
              "      <th>4</th>\n",
              "      <td>0.174574</td>\n",
              "      <td>0.371054</td>\n",
              "      <td>0.172307</td>\n",
              "      <td>0.00005</td>\n",
              "      <td>0.638889</td>\n",
              "      <td>0.316239</td>\n",
              "      <td>0.529412</td>\n",
              "    </tr>\n",
              "  </tbody>\n",
              "</table>\n",
              "</div>\n",
              "      <button class=\"colab-df-convert\" onclick=\"convertToInteractive('df-43223de0-aca2-45f6-b971-9d8d8e2844c3')\"\n",
              "              title=\"Convert this dataframe to an interactive table.\"\n",
              "              style=\"display:none;\">\n",
              "        \n",
              "  <svg xmlns=\"http://www.w3.org/2000/svg\" height=\"24px\"viewBox=\"0 0 24 24\"\n",
              "       width=\"24px\">\n",
              "    <path d=\"M0 0h24v24H0V0z\" fill=\"none\"/>\n",
              "    <path d=\"M18.56 5.44l.94 2.06.94-2.06 2.06-.94-2.06-.94-.94-2.06-.94 2.06-2.06.94zm-11 1L8.5 8.5l.94-2.06 2.06-.94-2.06-.94L8.5 2.5l-.94 2.06-2.06.94zm10 10l.94 2.06.94-2.06 2.06-.94-2.06-.94-.94-2.06-.94 2.06-2.06.94z\"/><path d=\"M17.41 7.96l-1.37-1.37c-.4-.4-.92-.59-1.43-.59-.52 0-1.04.2-1.43.59L10.3 9.45l-7.72 7.72c-.78.78-.78 2.05 0 2.83L4 21.41c.39.39.9.59 1.41.59.51 0 1.02-.2 1.41-.59l7.78-7.78 2.81-2.81c.8-.78.8-2.07 0-2.86zM5.41 20L4 18.59l7.72-7.72 1.47 1.35L5.41 20z\"/>\n",
              "  </svg>\n",
              "      </button>\n",
              "      \n",
              "  <style>\n",
              "    .colab-df-container {\n",
              "      display:flex;\n",
              "      flex-wrap:wrap;\n",
              "      gap: 12px;\n",
              "    }\n",
              "\n",
              "    .colab-df-convert {\n",
              "      background-color: #E8F0FE;\n",
              "      border: none;\n",
              "      border-radius: 50%;\n",
              "      cursor: pointer;\n",
              "      display: none;\n",
              "      fill: #1967D2;\n",
              "      height: 32px;\n",
              "      padding: 0 0 0 0;\n",
              "      width: 32px;\n",
              "    }\n",
              "\n",
              "    .colab-df-convert:hover {\n",
              "      background-color: #E2EBFA;\n",
              "      box-shadow: 0px 1px 2px rgba(60, 64, 67, 0.3), 0px 1px 3px 1px rgba(60, 64, 67, 0.15);\n",
              "      fill: #174EA6;\n",
              "    }\n",
              "\n",
              "    [theme=dark] .colab-df-convert {\n",
              "      background-color: #3B4455;\n",
              "      fill: #D2E3FC;\n",
              "    }\n",
              "\n",
              "    [theme=dark] .colab-df-convert:hover {\n",
              "      background-color: #434B5C;\n",
              "      box-shadow: 0px 1px 3px 1px rgba(0, 0, 0, 0.15);\n",
              "      filter: drop-shadow(0px 1px 2px rgba(0, 0, 0, 0.3));\n",
              "      fill: #FFFFFF;\n",
              "    }\n",
              "  </style>\n",
              "\n",
              "      <script>\n",
              "        const buttonEl =\n",
              "          document.querySelector('#df-43223de0-aca2-45f6-b971-9d8d8e2844c3 button.colab-df-convert');\n",
              "        buttonEl.style.display =\n",
              "          google.colab.kernel.accessAllowed ? 'block' : 'none';\n",
              "\n",
              "        async function convertToInteractive(key) {\n",
              "          const element = document.querySelector('#df-43223de0-aca2-45f6-b971-9d8d8e2844c3');\n",
              "          const dataTable =\n",
              "            await google.colab.kernel.invokeFunction('convertToInteractive',\n",
              "                                                     [key], {});\n",
              "          if (!dataTable) return;\n",
              "\n",
              "          const docLinkHtml = 'Like what you see? Visit the ' +\n",
              "            '<a target=\"_blank\" href=https://colab.research.google.com/notebooks/data_table.ipynb>data table notebook</a>'\n",
              "            + ' to learn more about interactive tables.';\n",
              "          element.innerHTML = '';\n",
              "          dataTable['output_type'] = 'display_data';\n",
              "          await google.colab.output.renderOutput(dataTable, element);\n",
              "          const docLink = document.createElement('div');\n",
              "          docLink.innerHTML = docLinkHtml;\n",
              "          element.appendChild(docLink);\n",
              "        }\n",
              "      </script>\n",
              "    </div>\n",
              "  </div>\n",
              "  "
            ]
          },
          "metadata": {},
          "execution_count": 33
        }
      ]
    },
    {
      "cell_type": "code",
      "metadata": {
        "id": "8YshU5poFne8"
      },
      "source": [
        "X = new_df.drop('Close', axis=1)\n",
        "y =new_df['Close']"
      ],
      "execution_count": 34,
      "outputs": []
    },
    {
      "cell_type": "code",
      "metadata": {
        "id": "qVA12l3w1SoS",
        "outputId": "8c125d13-72a3-469a-ab75-5b29e148b492",
        "colab": {
          "base_uri": "https://localhost:8080/",
          "height": 206
        }
      },
      "source": [
        "X.head()"
      ],
      "execution_count": 35,
      "outputs": [
        {
          "output_type": "execute_result",
          "data": {
            "text/plain": [
              "   Subjectivity  Polarity  Compound  Negative   Neutral  Positive\n",
              "0      0.301192  0.110142   0.00005  0.740741  0.239316  0.485294\n",
              "1      0.195663  0.273531   0.00040  0.398148  0.393162  0.779412\n",
              "2      0.195740  0.199093   0.00015  0.472222  0.393162  0.647059\n",
              "3      0.300838  0.286668   0.00010  0.546296  0.350427  0.617647\n",
              "4      0.371054  0.172307   0.00005  0.638889  0.316239  0.529412"
            ],
            "text/html": [
              "\n",
              "  <div id=\"df-c039f951-90b8-435e-be5b-1e07be8b72b7\">\n",
              "    <div class=\"colab-df-container\">\n",
              "      <div>\n",
              "<style scoped>\n",
              "    .dataframe tbody tr th:only-of-type {\n",
              "        vertical-align: middle;\n",
              "    }\n",
              "\n",
              "    .dataframe tbody tr th {\n",
              "        vertical-align: top;\n",
              "    }\n",
              "\n",
              "    .dataframe thead th {\n",
              "        text-align: right;\n",
              "    }\n",
              "</style>\n",
              "<table border=\"1\" class=\"dataframe\">\n",
              "  <thead>\n",
              "    <tr style=\"text-align: right;\">\n",
              "      <th></th>\n",
              "      <th>Subjectivity</th>\n",
              "      <th>Polarity</th>\n",
              "      <th>Compound</th>\n",
              "      <th>Negative</th>\n",
              "      <th>Neutral</th>\n",
              "      <th>Positive</th>\n",
              "    </tr>\n",
              "  </thead>\n",
              "  <tbody>\n",
              "    <tr>\n",
              "      <th>0</th>\n",
              "      <td>0.301192</td>\n",
              "      <td>0.110142</td>\n",
              "      <td>0.00005</td>\n",
              "      <td>0.740741</td>\n",
              "      <td>0.239316</td>\n",
              "      <td>0.485294</td>\n",
              "    </tr>\n",
              "    <tr>\n",
              "      <th>1</th>\n",
              "      <td>0.195663</td>\n",
              "      <td>0.273531</td>\n",
              "      <td>0.00040</td>\n",
              "      <td>0.398148</td>\n",
              "      <td>0.393162</td>\n",
              "      <td>0.779412</td>\n",
              "    </tr>\n",
              "    <tr>\n",
              "      <th>2</th>\n",
              "      <td>0.195740</td>\n",
              "      <td>0.199093</td>\n",
              "      <td>0.00015</td>\n",
              "      <td>0.472222</td>\n",
              "      <td>0.393162</td>\n",
              "      <td>0.647059</td>\n",
              "    </tr>\n",
              "    <tr>\n",
              "      <th>3</th>\n",
              "      <td>0.300838</td>\n",
              "      <td>0.286668</td>\n",
              "      <td>0.00010</td>\n",
              "      <td>0.546296</td>\n",
              "      <td>0.350427</td>\n",
              "      <td>0.617647</td>\n",
              "    </tr>\n",
              "    <tr>\n",
              "      <th>4</th>\n",
              "      <td>0.371054</td>\n",
              "      <td>0.172307</td>\n",
              "      <td>0.00005</td>\n",
              "      <td>0.638889</td>\n",
              "      <td>0.316239</td>\n",
              "      <td>0.529412</td>\n",
              "    </tr>\n",
              "  </tbody>\n",
              "</table>\n",
              "</div>\n",
              "      <button class=\"colab-df-convert\" onclick=\"convertToInteractive('df-c039f951-90b8-435e-be5b-1e07be8b72b7')\"\n",
              "              title=\"Convert this dataframe to an interactive table.\"\n",
              "              style=\"display:none;\">\n",
              "        \n",
              "  <svg xmlns=\"http://www.w3.org/2000/svg\" height=\"24px\"viewBox=\"0 0 24 24\"\n",
              "       width=\"24px\">\n",
              "    <path d=\"M0 0h24v24H0V0z\" fill=\"none\"/>\n",
              "    <path d=\"M18.56 5.44l.94 2.06.94-2.06 2.06-.94-2.06-.94-.94-2.06-.94 2.06-2.06.94zm-11 1L8.5 8.5l.94-2.06 2.06-.94-2.06-.94L8.5 2.5l-.94 2.06-2.06.94zm10 10l.94 2.06.94-2.06 2.06-.94-2.06-.94-.94-2.06-.94 2.06-2.06.94z\"/><path d=\"M17.41 7.96l-1.37-1.37c-.4-.4-.92-.59-1.43-.59-.52 0-1.04.2-1.43.59L10.3 9.45l-7.72 7.72c-.78.78-.78 2.05 0 2.83L4 21.41c.39.39.9.59 1.41.59.51 0 1.02-.2 1.41-.59l7.78-7.78 2.81-2.81c.8-.78.8-2.07 0-2.86zM5.41 20L4 18.59l7.72-7.72 1.47 1.35L5.41 20z\"/>\n",
              "  </svg>\n",
              "      </button>\n",
              "      \n",
              "  <style>\n",
              "    .colab-df-container {\n",
              "      display:flex;\n",
              "      flex-wrap:wrap;\n",
              "      gap: 12px;\n",
              "    }\n",
              "\n",
              "    .colab-df-convert {\n",
              "      background-color: #E8F0FE;\n",
              "      border: none;\n",
              "      border-radius: 50%;\n",
              "      cursor: pointer;\n",
              "      display: none;\n",
              "      fill: #1967D2;\n",
              "      height: 32px;\n",
              "      padding: 0 0 0 0;\n",
              "      width: 32px;\n",
              "    }\n",
              "\n",
              "    .colab-df-convert:hover {\n",
              "      background-color: #E2EBFA;\n",
              "      box-shadow: 0px 1px 2px rgba(60, 64, 67, 0.3), 0px 1px 3px 1px rgba(60, 64, 67, 0.15);\n",
              "      fill: #174EA6;\n",
              "    }\n",
              "\n",
              "    [theme=dark] .colab-df-convert {\n",
              "      background-color: #3B4455;\n",
              "      fill: #D2E3FC;\n",
              "    }\n",
              "\n",
              "    [theme=dark] .colab-df-convert:hover {\n",
              "      background-color: #434B5C;\n",
              "      box-shadow: 0px 1px 3px 1px rgba(0, 0, 0, 0.15);\n",
              "      filter: drop-shadow(0px 1px 2px rgba(0, 0, 0, 0.3));\n",
              "      fill: #FFFFFF;\n",
              "    }\n",
              "  </style>\n",
              "\n",
              "      <script>\n",
              "        const buttonEl =\n",
              "          document.querySelector('#df-c039f951-90b8-435e-be5b-1e07be8b72b7 button.colab-df-convert');\n",
              "        buttonEl.style.display =\n",
              "          google.colab.kernel.accessAllowed ? 'block' : 'none';\n",
              "\n",
              "        async function convertToInteractive(key) {\n",
              "          const element = document.querySelector('#df-c039f951-90b8-435e-be5b-1e07be8b72b7');\n",
              "          const dataTable =\n",
              "            await google.colab.kernel.invokeFunction('convertToInteractive',\n",
              "                                                     [key], {});\n",
              "          if (!dataTable) return;\n",
              "\n",
              "          const docLinkHtml = 'Like what you see? Visit the ' +\n",
              "            '<a target=\"_blank\" href=https://colab.research.google.com/notebooks/data_table.ipynb>data table notebook</a>'\n",
              "            + ' to learn more about interactive tables.';\n",
              "          element.innerHTML = '';\n",
              "          dataTable['output_type'] = 'display_data';\n",
              "          await google.colab.output.renderOutput(dataTable, element);\n",
              "          const docLink = document.createElement('div');\n",
              "          docLink.innerHTML = docLinkHtml;\n",
              "          element.appendChild(docLink);\n",
              "        }\n",
              "      </script>\n",
              "    </div>\n",
              "  </div>\n",
              "  "
            ]
          },
          "metadata": {},
          "execution_count": 35
        }
      ]
    },
    {
      "cell_type": "code",
      "metadata": {
        "id": "SywSn2Zpxv_0",
        "outputId": "9a4cf0db-bc72-4097-a6ce-2d70faaeec5d",
        "colab": {
          "base_uri": "https://localhost:8080/"
        }
      },
      "source": [
        "x_train, x_test, y_train, y_test = train_test_split(X, y, test_size=0.2, random_state = 0)\n",
        "x_train.shape"
      ],
      "execution_count": 36,
      "outputs": [
        {
          "output_type": "execute_result",
          "data": {
            "text/plain": [
              "(925, 6)"
            ]
          },
          "metadata": {},
          "execution_count": 36
        }
      ]
    },
    {
      "cell_type": "code",
      "metadata": {
        "id": "Z9ITxNN41W7a",
        "outputId": "fd4197b7-247e-416a-c083-76fefe82cfe0",
        "colab": {
          "base_uri": "https://localhost:8080/",
          "height": 363
        }
      },
      "source": [
        "x_train[:10]"
      ],
      "execution_count": 37,
      "outputs": [
        {
          "output_type": "execute_result",
          "data": {
            "text/plain": [
              "      Subjectivity  Polarity  Compound  Negative   Neutral  Positive\n",
              "487       0.267989  0.332583   0.00010  0.537037  0.444444  0.470588\n",
              "397       0.190989  0.330174   0.00015  0.425926  0.615385  0.352941\n",
              "707       0.324493  0.231404   0.00010  0.546296  0.470085  0.411765\n",
              "994       0.241077  0.164957   0.00010  0.546296  0.487179  0.367647\n",
              "196       0.406947  0.326671   0.00005  0.787037  0.102564  0.661765\n",
              "268       0.380751  0.287986   0.00040  0.277778  0.589744  0.632353\n",
              "183       0.331189  0.353968   0.00005  0.750000  0.059829  0.794118\n",
              "1006      0.333321  0.060713   0.00005  0.583333  0.504274  0.294118\n",
              "395       0.366749  0.212730   0.00010  0.574074  0.504274  0.308824\n",
              "528       0.315487  0.367349   0.00025  0.379630  0.547009  0.544118"
            ],
            "text/html": [
              "\n",
              "  <div id=\"df-3e3d8a89-0c1d-4936-a0d5-447f47a12a74\">\n",
              "    <div class=\"colab-df-container\">\n",
              "      <div>\n",
              "<style scoped>\n",
              "    .dataframe tbody tr th:only-of-type {\n",
              "        vertical-align: middle;\n",
              "    }\n",
              "\n",
              "    .dataframe tbody tr th {\n",
              "        vertical-align: top;\n",
              "    }\n",
              "\n",
              "    .dataframe thead th {\n",
              "        text-align: right;\n",
              "    }\n",
              "</style>\n",
              "<table border=\"1\" class=\"dataframe\">\n",
              "  <thead>\n",
              "    <tr style=\"text-align: right;\">\n",
              "      <th></th>\n",
              "      <th>Subjectivity</th>\n",
              "      <th>Polarity</th>\n",
              "      <th>Compound</th>\n",
              "      <th>Negative</th>\n",
              "      <th>Neutral</th>\n",
              "      <th>Positive</th>\n",
              "    </tr>\n",
              "  </thead>\n",
              "  <tbody>\n",
              "    <tr>\n",
              "      <th>487</th>\n",
              "      <td>0.267989</td>\n",
              "      <td>0.332583</td>\n",
              "      <td>0.00010</td>\n",
              "      <td>0.537037</td>\n",
              "      <td>0.444444</td>\n",
              "      <td>0.470588</td>\n",
              "    </tr>\n",
              "    <tr>\n",
              "      <th>397</th>\n",
              "      <td>0.190989</td>\n",
              "      <td>0.330174</td>\n",
              "      <td>0.00015</td>\n",
              "      <td>0.425926</td>\n",
              "      <td>0.615385</td>\n",
              "      <td>0.352941</td>\n",
              "    </tr>\n",
              "    <tr>\n",
              "      <th>707</th>\n",
              "      <td>0.324493</td>\n",
              "      <td>0.231404</td>\n",
              "      <td>0.00010</td>\n",
              "      <td>0.546296</td>\n",
              "      <td>0.470085</td>\n",
              "      <td>0.411765</td>\n",
              "    </tr>\n",
              "    <tr>\n",
              "      <th>994</th>\n",
              "      <td>0.241077</td>\n",
              "      <td>0.164957</td>\n",
              "      <td>0.00010</td>\n",
              "      <td>0.546296</td>\n",
              "      <td>0.487179</td>\n",
              "      <td>0.367647</td>\n",
              "    </tr>\n",
              "    <tr>\n",
              "      <th>196</th>\n",
              "      <td>0.406947</td>\n",
              "      <td>0.326671</td>\n",
              "      <td>0.00005</td>\n",
              "      <td>0.787037</td>\n",
              "      <td>0.102564</td>\n",
              "      <td>0.661765</td>\n",
              "    </tr>\n",
              "    <tr>\n",
              "      <th>268</th>\n",
              "      <td>0.380751</td>\n",
              "      <td>0.287986</td>\n",
              "      <td>0.00040</td>\n",
              "      <td>0.277778</td>\n",
              "      <td>0.589744</td>\n",
              "      <td>0.632353</td>\n",
              "    </tr>\n",
              "    <tr>\n",
              "      <th>183</th>\n",
              "      <td>0.331189</td>\n",
              "      <td>0.353968</td>\n",
              "      <td>0.00005</td>\n",
              "      <td>0.750000</td>\n",
              "      <td>0.059829</td>\n",
              "      <td>0.794118</td>\n",
              "    </tr>\n",
              "    <tr>\n",
              "      <th>1006</th>\n",
              "      <td>0.333321</td>\n",
              "      <td>0.060713</td>\n",
              "      <td>0.00005</td>\n",
              "      <td>0.583333</td>\n",
              "      <td>0.504274</td>\n",
              "      <td>0.294118</td>\n",
              "    </tr>\n",
              "    <tr>\n",
              "      <th>395</th>\n",
              "      <td>0.366749</td>\n",
              "      <td>0.212730</td>\n",
              "      <td>0.00010</td>\n",
              "      <td>0.574074</td>\n",
              "      <td>0.504274</td>\n",
              "      <td>0.308824</td>\n",
              "    </tr>\n",
              "    <tr>\n",
              "      <th>528</th>\n",
              "      <td>0.315487</td>\n",
              "      <td>0.367349</td>\n",
              "      <td>0.00025</td>\n",
              "      <td>0.379630</td>\n",
              "      <td>0.547009</td>\n",
              "      <td>0.544118</td>\n",
              "    </tr>\n",
              "  </tbody>\n",
              "</table>\n",
              "</div>\n",
              "      <button class=\"colab-df-convert\" onclick=\"convertToInteractive('df-3e3d8a89-0c1d-4936-a0d5-447f47a12a74')\"\n",
              "              title=\"Convert this dataframe to an interactive table.\"\n",
              "              style=\"display:none;\">\n",
              "        \n",
              "  <svg xmlns=\"http://www.w3.org/2000/svg\" height=\"24px\"viewBox=\"0 0 24 24\"\n",
              "       width=\"24px\">\n",
              "    <path d=\"M0 0h24v24H0V0z\" fill=\"none\"/>\n",
              "    <path d=\"M18.56 5.44l.94 2.06.94-2.06 2.06-.94-2.06-.94-.94-2.06-.94 2.06-2.06.94zm-11 1L8.5 8.5l.94-2.06 2.06-.94-2.06-.94L8.5 2.5l-.94 2.06-2.06.94zm10 10l.94 2.06.94-2.06 2.06-.94-2.06-.94-.94-2.06-.94 2.06-2.06.94z\"/><path d=\"M17.41 7.96l-1.37-1.37c-.4-.4-.92-.59-1.43-.59-.52 0-1.04.2-1.43.59L10.3 9.45l-7.72 7.72c-.78.78-.78 2.05 0 2.83L4 21.41c.39.39.9.59 1.41.59.51 0 1.02-.2 1.41-.59l7.78-7.78 2.81-2.81c.8-.78.8-2.07 0-2.86zM5.41 20L4 18.59l7.72-7.72 1.47 1.35L5.41 20z\"/>\n",
              "  </svg>\n",
              "      </button>\n",
              "      \n",
              "  <style>\n",
              "    .colab-df-container {\n",
              "      display:flex;\n",
              "      flex-wrap:wrap;\n",
              "      gap: 12px;\n",
              "    }\n",
              "\n",
              "    .colab-df-convert {\n",
              "      background-color: #E8F0FE;\n",
              "      border: none;\n",
              "      border-radius: 50%;\n",
              "      cursor: pointer;\n",
              "      display: none;\n",
              "      fill: #1967D2;\n",
              "      height: 32px;\n",
              "      padding: 0 0 0 0;\n",
              "      width: 32px;\n",
              "    }\n",
              "\n",
              "    .colab-df-convert:hover {\n",
              "      background-color: #E2EBFA;\n",
              "      box-shadow: 0px 1px 2px rgba(60, 64, 67, 0.3), 0px 1px 3px 1px rgba(60, 64, 67, 0.15);\n",
              "      fill: #174EA6;\n",
              "    }\n",
              "\n",
              "    [theme=dark] .colab-df-convert {\n",
              "      background-color: #3B4455;\n",
              "      fill: #D2E3FC;\n",
              "    }\n",
              "\n",
              "    [theme=dark] .colab-df-convert:hover {\n",
              "      background-color: #434B5C;\n",
              "      box-shadow: 0px 1px 3px 1px rgba(0, 0, 0, 0.15);\n",
              "      filter: drop-shadow(0px 1px 2px rgba(0, 0, 0, 0.3));\n",
              "      fill: #FFFFFF;\n",
              "    }\n",
              "  </style>\n",
              "\n",
              "      <script>\n",
              "        const buttonEl =\n",
              "          document.querySelector('#df-3e3d8a89-0c1d-4936-a0d5-447f47a12a74 button.colab-df-convert');\n",
              "        buttonEl.style.display =\n",
              "          google.colab.kernel.accessAllowed ? 'block' : 'none';\n",
              "\n",
              "        async function convertToInteractive(key) {\n",
              "          const element = document.querySelector('#df-3e3d8a89-0c1d-4936-a0d5-447f47a12a74');\n",
              "          const dataTable =\n",
              "            await google.colab.kernel.invokeFunction('convertToInteractive',\n",
              "                                                     [key], {});\n",
              "          if (!dataTable) return;\n",
              "\n",
              "          const docLinkHtml = 'Like what you see? Visit the ' +\n",
              "            '<a target=\"_blank\" href=https://colab.research.google.com/notebooks/data_table.ipynb>data table notebook</a>'\n",
              "            + ' to learn more about interactive tables.';\n",
              "          element.innerHTML = '';\n",
              "          dataTable['output_type'] = 'display_data';\n",
              "          await google.colab.output.renderOutput(dataTable, element);\n",
              "          const docLink = document.createElement('div');\n",
              "          docLink.innerHTML = docLinkHtml;\n",
              "          element.appendChild(docLink);\n",
              "        }\n",
              "      </script>\n",
              "    </div>\n",
              "  </div>\n",
              "  "
            ]
          },
          "metadata": {},
          "execution_count": 37
        }
      ]
    },
    {
      "cell_type": "code",
      "metadata": {
        "id": "8Xb3p5PsyCxL"
      },
      "source": [
        "rf = RandomForestRegressor()\n",
        "rf.fit(x_train, y_train)\n",
        "prediction=rf.predict(x_test)"
      ],
      "execution_count": 38,
      "outputs": []
    },
    {
      "cell_type": "code",
      "metadata": {
        "id": "QQ44SlYU0_tV",
        "outputId": "84882386-4955-4c94-e2d3-a1b058262d3b",
        "colab": {
          "base_uri": "https://localhost:8080/"
        }
      },
      "source": [
        "print(prediction[:10])\n",
        "print(y_test[:10])\n",
        "print(mean_squared_error(prediction,y_test))"
      ],
      "execution_count": 39,
      "outputs": [
        {
          "output_type": "stream",
          "name": "stdout",
          "text": [
            "[0.69470504 0.67375682 0.57872164 0.28358619 0.54542896 0.50474235\n",
            " 0.27646345 0.26046158 0.75200121 0.22952411]\n",
            "1084    0.892007\n",
            "1038    0.952311\n",
            "840     0.586274\n",
            "317     0.221043\n",
            "1053    0.954530\n",
            "924     0.626119\n",
            "587     0.408013\n",
            "294     0.298198\n",
            "760     0.359449\n",
            "270     0.334410\n",
            "Name: Close, dtype: float64\n",
            "0.04378517552839184\n"
          ]
        }
      ]
    },
    {
      "cell_type": "code",
      "metadata": {
        "id": "nq2Ugkav6kf1"
      },
      "source": [
        "adb = AdaBoostRegressor()\n",
        "adb.fit(x_train, y_train)\n",
        "predictions = adb.predict(x_test)"
      ],
      "execution_count": 40,
      "outputs": []
    },
    {
      "cell_type": "code",
      "metadata": {
        "id": "nkc1C3tt6wIO",
        "outputId": "b24424e4-e8af-4d39-f112-415927e78bee",
        "colab": {
          "base_uri": "https://localhost:8080/"
        }
      },
      "source": [
        "print(mean_squared_error(predictions, y_test))"
      ],
      "execution_count": 41,
      "outputs": [
        {
          "output_type": "stream",
          "name": "stdout",
          "text": [
            "0.04700729376773106\n"
          ]
        }
      ]
    },
    {
      "cell_type": "code",
      "metadata": {
        "id": "eaSqTmPq29Aj"
      },
      "source": [
        "from sklearn.tree import DecisionTreeRegressor\n",
        "dec_tree = DecisionTreeRegressor()\n",
        "dec_tree.fit(x_train, y_train)\n",
        "predictions = dec_tree.predict(x_test)"
      ],
      "execution_count": 42,
      "outputs": []
    },
    {
      "cell_type": "code",
      "metadata": {
        "id": "0duwvBkP3bdY",
        "outputId": "f5ec9ec6-9b37-4d80-c7eb-32ffbaa9dc79",
        "colab": {
          "base_uri": "https://localhost:8080/"
        }
      },
      "source": [
        "print(predictions[:10])\n",
        "print(y_test[:10])\n",
        "print(mean_squared_error(predictions,y_test))"
      ],
      "execution_count": 43,
      "outputs": [
        {
          "output_type": "stream",
          "name": "stdout",
          "text": [
            "[0.89840138 0.75116468 0.75294924 0.28138561 0.7425115  0.42403679\n",
            " 0.28295218 0.24940705 0.74860911 0.16900266]\n",
            "1084    0.892007\n",
            "1038    0.952311\n",
            "840     0.586274\n",
            "317     0.221043\n",
            "1053    0.954530\n",
            "924     0.626119\n",
            "587     0.408013\n",
            "294     0.298198\n",
            "760     0.359449\n",
            "270     0.334410\n",
            "Name: Close, dtype: float64\n",
            "0.07711063447103625\n"
          ]
        }
      ]
    },
    {
      "cell_type": "code",
      "metadata": {
        "id": "RZ-BFaZP4rWA",
        "outputId": "a58e3442-a574-4364-fec7-1ddb0a02af2c",
        "colab": {
          "base_uri": "https://localhost:8080/"
        }
      },
      "source": [
        "lgb = lightgbm.LGBMRegressor()\n",
        "lgb.fit(x_train, y_train)"
      ],
      "execution_count": 44,
      "outputs": [
        {
          "output_type": "execute_result",
          "data": {
            "text/plain": [
              "LGBMRegressor()"
            ]
          },
          "metadata": {},
          "execution_count": 44
        }
      ]
    },
    {
      "cell_type": "code",
      "metadata": {
        "id": "rRJ1D-ba5W7B",
        "outputId": "f5bfd59b-f174-4d4e-f9cc-0caabdb67219",
        "colab": {
          "base_uri": "https://localhost:8080/"
        }
      },
      "source": [
        "predictions = lgb.predict(x_test)\n",
        "print(mean_squared_error(predictions,y_test))"
      ],
      "execution_count": 45,
      "outputs": [
        {
          "output_type": "stream",
          "name": "stdout",
          "text": [
            "0.05383104790619369\n"
          ]
        }
      ]
    },
    {
      "cell_type": "code",
      "metadata": {
        "id": "OIdi44Xm5_uR",
        "outputId": "e7aa9bfc-cc7a-4f8e-e4ee-fd84ddcd6529",
        "colab": {
          "base_uri": "https://localhost:8080/"
        }
      },
      "source": [
        "xgb = xgboost.XGBRegressor()\n",
        "xgb.fit(x_train, y_train)"
      ],
      "execution_count": 46,
      "outputs": [
        {
          "output_type": "stream",
          "name": "stdout",
          "text": [
            "[15:37:07] WARNING: /workspace/src/objective/regression_obj.cu:152: reg:linear is now deprecated in favor of reg:squarederror.\n"
          ]
        },
        {
          "output_type": "execute_result",
          "data": {
            "text/plain": [
              "XGBRegressor()"
            ]
          },
          "metadata": {},
          "execution_count": 46
        }
      ]
    },
    {
      "cell_type": "code",
      "metadata": {
        "id": "AxhH9EJ16Wkz",
        "outputId": "98fcda80-d730-4671-f043-688a5ee3abf6",
        "colab": {
          "base_uri": "https://localhost:8080/"
        }
      },
      "source": [
        "predictions = xgb.predict(x_test)\n",
        "print(mean_squared_error(predictions,y_test))"
      ],
      "execution_count": 47,
      "outputs": [
        {
          "output_type": "stream",
          "name": "stdout",
          "text": [
            "0.045429749259567706\n"
          ]
        }
      ]
    },
    {
      "cell_type": "markdown",
      "metadata": {
        "id": "RNeRBjhVXcIS"
      },
      "source": [
        "**Conclusion**\n",
        "\n",
        "We observe that Xgboost model performs the best for the sentiment analysis"
      ]
    },
    {
      "cell_type": "markdown",
      "source": [
        "**Thankyou**\n",
        "\n",
        "\n",
        "---\n",
        "\n",
        "\n",
        "\n",
        "---\n",
        "\n"
      ],
      "metadata": {
        "id": "q97UqdgUmkHD"
      }
    }
  ]
}